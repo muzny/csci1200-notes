{
 "cells": [
  {
   "cell_type": "markdown",
   "metadata": {},
   "source": [
    "Using Objects (part 1)\n",
    "=============\n",
    "\n",
    "Back when we talked about [data types](../02_datatypes_variables/02_data_types_operations.ipynb), we talked about them as if they were pretty similar in how they acted.\n",
    "\n",
    "When we [learned about built-in functions](../04_functions/03_builtin_functions.ipynb), we learned that strings interact differently with functions than ints, floats, and booleans do.\n",
    "\n",
    "When we [learned about lists](../07_lists/06_lists_builtin_functions.ipynb), we learned that they interact similary with functions to strings.\n",
    "\n",
    "What has been going on here is that strings and lists are both what we call __objects__.\n",
    "\n",
    "Types like `int`, `float`, and `boolean` are what we call \"primitive\" (basically not an object).\n",
    "\n",
    "An object has __state__ and __behavior__.\n",
    "\n",
    "For example, a string's state would be the letters that it stores and its behavior is the functions that you  can call on it."
   ]
  },
  {
   "cell_type": "code",
   "execution_count": null,
   "metadata": {},
   "outputs": [],
   "source": [
    "s = \"hello\"  # state: \"hello\"\n",
    "print(s.upper())  # behavior: can give you the upper case version\n",
    "print(s.islower())  # behavior: can tell you if it is lower case"
   ]
  },
  {
   "cell_type": "markdown",
   "metadata": {},
   "source": [
    "__state__: corresponds to the underlying data  \n",
    "__behavior__: corresponds to functions that you can call on an object\n",
    "\n",
    "\n",
    "Identifying Objects\n",
    "-------------\n",
    "\n",
    "An object in python is anything that we will interact with by calling functions following the syntax:\n",
    "\n",
    "```python\n",
    "return_value = value.function(parameters)  # value is an object\n",
    "\n",
    "# as opposed to \n",
    "return_value = function(value)  # value is not an object\n",
    "```\n",
    "\n",
    "Here are some examples with strings and lists. You should have a sense for how to go about *using* objects. We'll dive into what exactly an object represents in the future. "
   ]
  },
  {
   "cell_type": "code",
   "execution_count": null,
   "metadata": {},
   "outputs": [],
   "source": [
    "k = [\"dog\", \"cat\", \"parrot\"]\n",
    "num = k.count(\"dog\")  # lists are objects\n",
    "s = \"  \".join(k)  # strings are objects"
   ]
  },
  {
   "cell_type": "code",
   "execution_count": null,
   "metadata": {},
   "outputs": [],
   "source": []
  }
 ],
 "metadata": {
  "kernelspec": {
   "display_name": "Python 3",
   "language": "python",
   "name": "python3"
  },
  "language_info": {
   "codemirror_mode": {
    "name": "ipython",
    "version": 3
   },
   "file_extension": ".py",
   "mimetype": "text/x-python",
   "name": "python",
   "nbconvert_exporter": "python",
   "pygments_lexer": "ipython3",
   "version": "3.6.1"
  }
 },
 "nbformat": 4,
 "nbformat_minor": 2
}

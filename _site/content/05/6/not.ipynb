{
 "cells": [
  {
   "cell_type": "markdown",
   "metadata": {},
   "source": [
    "`not`\n",
    "=========\n",
    "\n",
    "In [the first section of this chapter](../1/logical_expressions.html), we talked about the logical operators `and` and `or`. There is one that we left out--`not`.\n",
    "\n",
    "`not` acts a little bit differently than `and` and `or`.\n",
    "\n",
    "We can think of `and` and `or` as taking two boolean values and combining them into one boolean value.\n",
    "\n",
    "```python\n",
    "print(True and True)   # True\n",
    "print(True and False)  # False\n",
    "print(False and True)  # False\n",
    "print(False and False)  # False\n",
    "\n",
    "\n",
    "print(True or True)   # True\n",
    "print(True or False)  # True\n",
    "print(False or True)  # True\n",
    "print(False or False)  # False\n",
    "```\n",
    "\n",
    "The `not` logical operator takes __one__ boolean value and switches it to the opposite value.\n",
    "\n",
    "```python\n",
    "print(not True)   # False\n",
    "print(not False)  # True\n",
    "```"
   ]
  },
  {
   "cell_type": "code",
   "execution_count": null,
   "metadata": {},
   "outputs": [],
   "source": [
    "print(not True)"
   ]
  },
  {
   "cell_type": "markdown",
   "metadata": {},
   "source": [
    "The place where this gets complicated is when we use `not` in combination with other comparison and logical operators. This is because the portion of the logical expression affected by `not` is not always obvious.\n",
    "\n",
    "Make a guess as to how the following expressions will evaluate before running them."
   ]
  },
  {
   "cell_type": "code",
   "execution_count": null,
   "metadata": {},
   "outputs": [],
   "source": [
    "# TODO: guess the result of this expression, then run it!\n",
    "# Guess:\n",
    "# Actual:\n",
    "\n",
    "print(not 7 < 2)"
   ]
  },
  {
   "cell_type": "code",
   "execution_count": null,
   "metadata": {},
   "outputs": [],
   "source": [
    "# TODO: guess the result of this expression, then run it!\n",
    "# Guess:\n",
    "# Actual:\n",
    "\n",
    "print(not 7 < 2 and 5 < 10)"
   ]
  },
  {
   "cell_type": "code",
   "execution_count": null,
   "metadata": {},
   "outputs": [],
   "source": [
    "# TODO: guess the result of this expression, then run it!\n",
    "# Guess:\n",
    "# Actual:\n",
    "\n",
    "print(not 7 < 2 and 5 > 10)"
   ]
  },
  {
   "cell_type": "code",
   "execution_count": null,
   "metadata": {},
   "outputs": [],
   "source": [
    "# TODO: guess the result of this expression, then run it!\n",
    "# Guess:\n",
    "# Actual:\n",
    "\n",
    "print(not False == True and 5 < 10)"
   ]
  },
  {
   "cell_type": "markdown",
   "metadata": {},
   "source": [
    "`not` is going to only apply to the __first__ boolean value to the right of it (unless you use parentheses).\n",
    "\n",
    "`not`'s precendence is going to be __higher__ than `and` and `or` but __lower__ than our comparison operators."
   ]
  }
 ],
 "metadata": {
  "kernelspec": {
   "display_name": "Python 3",
   "language": "python",
   "name": "python3"
  },
  "language_info": {
   "codemirror_mode": {
    "name": "ipython",
    "version": 3
   },
   "file_extension": ".py",
   "mimetype": "text/x-python",
   "name": "python",
   "nbconvert_exporter": "python",
   "pygments_lexer": "ipython3",
   "version": "3.6.1"
  }
 },
 "nbformat": 4,
 "nbformat_minor": 2
}

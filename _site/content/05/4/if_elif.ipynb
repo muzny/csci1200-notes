{
 "cells": [
  {
   "cell_type": "markdown",
   "metadata": {},
   "source": [
    "`if/elif/else` statements\n",
    "==============\n",
    "\n",
    "`if` statements have multiple ways that we can customize them (other than changing the logical expression): the second of these ways is by adding an `elif` clause to our statement.\n",
    "\n",
    "The syntax of `if/elif/else` statements is:\n",
    "\n",
    "```python\n",
    "if logical_expression:\n",
    "    # do something\n",
    "elif logical_expression2:\n",
    "    # do something different\n",
    "else:\n",
    "    # do something different again\n",
    "```\n",
    "\n",
    "Let's take a look at our previous example code again."
   ]
  },
  {
   "cell_type": "code",
   "execution_count": null,
   "metadata": {},
   "outputs": [],
   "source": [
    "# TODO: run this code!\n",
    "# Under what circumstances is \"big number\" printed out?\n",
    "# What about \"small number\"? What about \"medium number\"?\n",
    "# Answer:\n",
    "\n",
    "number = int(input(\"number? \"))\n",
    "\n",
    "if number > 100:\n",
    "    print(\"big number\")\n",
    "elif number < 0:\n",
    "    print(\"small number\")\n",
    "else:\n",
    "    print(\"medium number\")\n",
    "    \n",
    "print(\"done\")"
   ]
  },
  {
   "cell_type": "markdown",
   "metadata": {},
   "source": [
    "![if/elif/else statement as a flowchart](../../images/conditionals/if_elif_else_chart.png)\n",
    "\n",
    "Notice that for each branch in our `if/elif/else` statement, we only take that branch if *__all of the previous conditional statements evaluated to `False`__*."
   ]
  },
  {
   "cell_type": "code",
   "execution_count": null,
   "metadata": {},
   "outputs": [],
   "source": [
    "# TODO: run this code!\n",
    "# What is different about this statement from the\n",
    "# previous example?\n",
    "# Answer:\n",
    "\n",
    "number = int(input(\"number? \"))\n",
    "\n",
    "if number > 1000:\n",
    "    print(\"extra big number\")\n",
    "elif number > 100:\n",
    "    print(\"big number\")\n",
    "else:\n",
    "    print(\"other number\")\n",
    "    \n",
    "print(\"done\")"
   ]
  },
  {
   "cell_type": "markdown",
   "metadata": {},
   "source": [
    "Notice that \"big number\" is *__only__* printed out if the first test of `number > 1000` was `False`.\n",
    "\n",
    "Order of testing/execution\n",
    "------------------------\n",
    "\n",
    "For all `if/elif/else` statements, the program always executes the tests from top to bottom and *__stops as soon as one test evaluates to `True`__*."
   ]
  },
  {
   "cell_type": "markdown",
   "metadata": {},
   "source": [
    "Variations the structure of `if/elif/else`\n",
    "------------------------------\n",
    "\n",
    "Any combination of `if/elif/else` together is considered one control statement. The requirements for each part of this control statement are as follows:\n",
    "\n",
    "1. `if` - there must __always__ be __1 and only 1__ `if` statement at the beginning of your selection statement followed by a logical expression.\n",
    "2. `elif` - there *may* be __1 or more__ `elif` statements. They must contain logical expressions and they must follow the `if` statement.\n",
    "3. `else` - there *may* be __1 or 0__ `else` statements. The `else` statement can __never__ contain a logical expression. (Implicitly, the logical expression here is that all of the previous logical expressions were `False`.) \n",
    "\n",
    "At the bottom of this set of course notes are a series of different, valid variations on a single `if/elif/else` statement.\n",
    "\n",
    "Note that all of these examples are for __only 1__ control statement."
   ]
  },
  {
   "cell_type": "code",
   "execution_count": null,
   "metadata": {},
   "outputs": [],
   "source": [
    "# TODO: run this code!\n",
    "\n",
    "# we'll talk about this code in the modules section\n",
    "# -- basically we're getting \n",
    "# some random numbers so that the behavior of this code can change \n",
    "# when you run it different times\n",
    "import random \n",
    "\n",
    "# random int from the list [0, 1, 2, 3, 4, 5, 6, 7, 8, 9]\n",
    "# just like the range() function that we use with for loops!\n",
    "x = random.randrange(0, 10)\n",
    "y = random.randrange(0, 10)\n",
    "\n",
    "print(\"x is: \" + str(x))\n",
    "print(\"y is: \" + str(y))"
   ]
  },
  {
   "cell_type": "code",
   "execution_count": null,
   "metadata": {},
   "outputs": [],
   "source": [
    "# TODO: run this code!\n",
    "# We'll be using the values of x and y generated in the\n",
    "# code above for the rest of the code in this notebook!\n",
    "\n",
    "# just an if statement\n",
    "if x < y or x == 0:\n",
    "    print(\"either [x is less than y] or [x is 0] or both!\")"
   ]
  },
  {
   "cell_type": "code",
   "execution_count": null,
   "metadata": {},
   "outputs": [],
   "source": [
    "# if with an else\n",
    "if x < y or x == 0:\n",
    "    print(\"either [x is less than y] or [x is 0] or both!\")\n",
    "else:\n",
    "    print(\"both of [x is greater than or equal to y] and [x is not 0]\")"
   ]
  },
  {
   "cell_type": "code",
   "execution_count": null,
   "metadata": {},
   "outputs": [],
   "source": [
    "# if with an elif and no else\n",
    "if x < y:\n",
    "    print(\"[x is less than y]\")\n",
    "elif y % 2 == 0:\n",
    "    print(\"[x is not less than y] and [y is even]\") "
   ]
  },
  {
   "cell_type": "code",
   "execution_count": null,
   "metadata": {},
   "outputs": [],
   "source": [
    "# if with an elif and an else\n",
    "if x < y:\n",
    "    print(\"[x is less than y]\")\n",
    "elif y % 2 == 0:\n",
    "    print(\"[x is not less than y] and [y is even]\") \n",
    "else:\n",
    "    print(\"[x is not less than y] and [y is not even]\") "
   ]
  },
  {
   "cell_type": "code",
   "execution_count": null,
   "metadata": {},
   "outputs": [],
   "source": [
    "# if with more than 1 elif and an else\n",
    "if x < y:\n",
    "    print(\"[x is less than y]\")\n",
    "elif y % 2 == 0:\n",
    "    print(\"[x is not less than y] and [y is even]\") \n",
    "elif y < 5:\n",
    "    print(\"[x is not less than y] and [y is not even] and [y is less than 5]\") \n",
    "elif x < 5:\n",
    "    print(\"[x is not less than y] and [y is not even] and [y is not less than 5] and [x is less than 5]\") \n",
    "else:\n",
    "    print(\"[x is not less than y] and [y is not even] and [y is not less than 5] and [x is not less than 5]\") "
   ]
  }
 ],
 "metadata": {
  "kernelspec": {
   "display_name": "Python 3",
   "language": "python",
   "name": "python3"
  },
  "language_info": {
   "codemirror_mode": {
    "name": "ipython",
    "version": 3
   },
   "file_extension": ".py",
   "mimetype": "text/x-python",
   "name": "python",
   "nbconvert_exporter": "python",
   "pygments_lexer": "ipython3",
   "version": "3.6.1"
  }
 },
 "nbformat": 4,
 "nbformat_minor": 2
}

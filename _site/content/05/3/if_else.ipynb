{
 "cells": [
  {
   "cell_type": "markdown",
   "metadata": {},
   "source": [
    "`if/else` statements\n",
    "==============\n",
    "\n",
    "`if` statements have multiple ways that we can customize them (other than changing the logical expression): the first of these ways is by adding an `else` clause to our statement.\n",
    "\n",
    "The syntax of `if/else` statements is:\n",
    "\n",
    "```python\n",
    "if logical_expression:\n",
    "    # do something\n",
    "else:\n",
    "    # do something different\n",
    "```"
   ]
  },
  {
   "cell_type": "code",
   "execution_count": null,
   "metadata": {},
   "outputs": [],
   "source": [
    "# TODO: run me! Under what circumstances is \"big number\" printed out?\n",
    "# What about \"small number\"?\n",
    "# Answer:\n",
    "\n",
    "number = int(input(\"number? \"))\n",
    "\n",
    "if number > 100:\n",
    "    print(\"big number\")\n",
    "else:\n",
    "    print(\"small number\")\n",
    "    \n",
    "print(\"done\")"
   ]
  },
  {
   "cell_type": "markdown",
   "metadata": {},
   "source": [
    "Notice that what makes this statement different than [in the previous section](02_if_statements.ipynb) is that either \"big number\" or \"small number\" is _always_ printed. After one of the two is printed, then we finish by printing \"done\".\n",
    "\n",
    "We can think of this as a fork in the road that has a left and right option for paths that then rejoin each other.\n",
    "\n",
    "![if/else statement as a flowchart](../../images/conditionals/if_else_chart.png)"
   ]
  },
  {
   "cell_type": "code",
   "execution_count": null,
   "metadata": {},
   "outputs": [],
   "source": [
    "# TODO: write your own if/else statement here!"
   ]
  }
 ],
 "metadata": {
  "kernelspec": {
   "display_name": "Python 3",
   "language": "python",
   "name": "python3"
  },
  "language_info": {
   "codemirror_mode": {
    "name": "ipython",
    "version": 3
   },
   "file_extension": ".py",
   "mimetype": "text/x-python",
   "name": "python",
   "nbconvert_exporter": "python",
   "pygments_lexer": "ipython3",
   "version": "3.6.1"
  }
 },
 "nbformat": 4,
 "nbformat_minor": 2
}

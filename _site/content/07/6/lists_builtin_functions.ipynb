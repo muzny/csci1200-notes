{
 "cells": [
  {
   "cell_type": "markdown",
   "metadata": {},
   "source": [
    "Built-in Functions for lists\n",
    "====================\n",
    "\n",
    "In [section 4.3](../04_functions/03_builtin_functions.ipynb) we introduced python's built-in functions. We talked about a couple general functions like `input()`, `max()`, and `abs()` as well as some string specific functions like `str.islower()`, `str.capitalize()`, and `str.upper()`.\n",
    "\n",
    "Now we are going to go over two types of built-in functions dealing with lists:\n",
    "1. built-in functions that take lists as parameters. \n",
    "2. list functions that are built-in. (Called similarly to string functions.)"
   ]
  },
  {
   "cell_type": "markdown",
   "metadata": {},
   "source": [
    "Built-in functions that take lists as parameters\n",
    "-----------------------\n",
    "\n",
    "Some of the [standard python built-in functions](https://docs.python.org/3/library/functions.html) can take lists as parameters. Here is a list of some of the most useful ones for this course.\n",
    "\n",
    "\n",
    "[`max(list of values)`](https://docs.python.org/3/library/functions.html#max): notice that the first definition of the `max` function reads \"max(iterable, \\*[, key, default])\". This means that the `max` function can take any type that can be iterated over (as with a for loop) as a parameter. The \"\\*\" indicates that the rest of the parameters are optional."
   ]
  },
  {
   "cell_type": "code",
   "execution_count": null,
   "metadata": {},
   "outputs": [],
   "source": [
    "# anything that we can put in the blank for the statement \"for variable in ________\" can be given to the \n",
    "# max function\n",
    "print(max(range(2, 5)))\n",
    "print(max(\"The quick brown fox jumped over the lazy dog.\"))\n",
    "print([-4.3, -7, -12, -0.3])"
   ]
  },
  {
   "cell_type": "markdown",
   "metadata": {},
   "source": [
    "The same goes for the `min` function. We also now get access to some fun new functions:\n",
    "\n",
    "[`sum(iterable)`](https://docs.python.org/3/library/functions.html#sum): sums all values in the given iterable (like a list) and returns the resulting value.\n",
    " \n",
    "\n",
    "[`sorted(iterable)`](https://docs.python.org/3/library/functions.html#sorted): sorts the values in the given iterable and returns a sorted list of those values."
   ]
  },
  {
   "cell_type": "code",
   "execution_count": null,
   "metadata": {},
   "outputs": [],
   "source": [
    "# TODO: do some experiments with the sum and sorted functions!\n",
    "# does sum work on strings? does sorted work on strings?\n",
    "# does sum work on lists? does sorted work on lists?\n",
    "# does sum work on the range function? does sorted work on the range function?"
   ]
  },
  {
   "cell_type": "markdown",
   "metadata": {},
   "source": [
    "Our last *__extremely useful__* function that takes a list as a parameter that we'll talk about in this section of notes is a string function called `join`.\n",
    "\n",
    "[`str.join(iterable)`](https://docs.python.org/3/library/stdtypes.html#string-methods): join the elements in the given iterable using `str` as glue inbetween the elements. Returns one single string. Elements in the iterable must be strings.\n",
    "\n",
    "This method can be thought of as the opposite of the `str.split()` function. Instead of going from 1 string to a list of strings, it takes a list of strings and produces 1 string."
   ]
  },
  {
   "cell_type": "code",
   "execution_count": null,
   "metadata": {},
   "outputs": [],
   "source": [
    "print(\"glue\".join([\"here\", \"are\", \"words\"]))\n",
    "print(\" \".join([\"here\", \"are\", \"words\"]))"
   ]
  },
  {
   "cell_type": "code",
   "execution_count": null,
   "metadata": {},
   "outputs": [],
   "source": [
    "# TODO: what happens if you try to use join on a list that contains elements that are not strings?"
   ]
  },
  {
   "cell_type": "markdown",
   "metadata": {},
   "source": [
    "List functions that are built-in\n",
    "----------------------\n",
    "\n",
    "Similarly to strings, lists come with a [number of built-in functions](https://docs.python.org/3/tutorial/datastructures.html#more-on-lists). So far, we've only talked about `list.append()` and `del list[index]`.\n",
    "\n",
    "There are a number of list functions here. We're going to concentrate on a couple of them:\n",
    "\n",
    "`list.copy()`: return a copy of this list. Can also be written as `list[:]`."
   ]
  },
  {
   "cell_type": "code",
   "execution_count": null,
   "metadata": {},
   "outputs": [],
   "source": [
    "l = [2, 5, 6, 12]\n",
    "k = l.copy() \n",
    "#k = l[:]  # this line is equivalent to the line above it\n",
    "print(l)\n",
    "print(k)\n",
    "k[0] += 10\n",
    "print(l)\n",
    "print(k)"
   ]
  },
  {
   "cell_type": "markdown",
   "metadata": {},
   "source": [
    "`list.count(value)`: return the count of the occurrences of `value` in `list`. Same as the string version of this function.\n",
    "\n",
    "`list.index(value, [start index, [end index]])`: return the index that `value` occurs at in this list. You may optionally pass in a `start index` and an `end index` indicating what part of the list the search should occur at. Same as the string version of this function.\n",
    "\n",
    "`list.sort()`: sort the items of the list __in place__. This is a __mutator__ function. It does not return a value"
   ]
  },
  {
   "cell_type": "code",
   "execution_count": null,
   "metadata": {},
   "outputs": [],
   "source": [
    "# TODO: experiment with the above functions here!"
   ]
  },
  {
   "cell_type": "code",
   "execution_count": null,
   "metadata": {},
   "outputs": [],
   "source": []
  }
 ],
 "metadata": {
  "kernelspec": {
   "display_name": "Python 3",
   "language": "python",
   "name": "python3"
  },
  "language_info": {
   "codemirror_mode": {
    "name": "ipython",
    "version": 3
   },
   "file_extension": ".py",
   "mimetype": "text/x-python",
   "name": "python",
   "nbconvert_exporter": "python",
   "pygments_lexer": "ipython3",
   "version": "3.6.1"
  }
 },
 "nbformat": 4,
 "nbformat_minor": 2
}

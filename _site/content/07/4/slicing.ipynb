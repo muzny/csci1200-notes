{
 "cells": [
  {
   "cell_type": "markdown",
   "metadata": {},
   "source": [
    "String and list slicing\n",
    "============\n",
    "\n",
    "We've already learned about string and list indexing. Now we're going to look at slicing.\n",
    "\n",
    "Indexing isolated __one element at a time__. Slicing isolates __0 or more elements__.\n",
    "\n",
    "The syntax is: `variable[begin:end]` where `begin` is inclusive and `end` is exclusive.\n",
    "\n",
    "Both `begin` and `end` are optional — if they are left out, this means \"go from the beginning until ... \" or \"go from this index until the end\".\n",
    "\n",
    "Let's play around with this!"
   ]
  },
  {
   "cell_type": "code",
   "execution_count": null,
   "metadata": {},
   "outputs": [],
   "source": [
    "s = \"super turtle\"\n",
    "print(s[:4])\n",
    "print(s[4:])"
   ]
  },
  {
   "cell_type": "code",
   "execution_count": null,
   "metadata": {},
   "outputs": [],
   "source": [
    "s = \"super turtle\"\n",
    "print(s[0:6])"
   ]
  },
  {
   "cell_type": "code",
   "execution_count": null,
   "metadata": {},
   "outputs": [],
   "source": [
    "s = \"super turtle\"\n",
    "print(s[0:len(s)])"
   ]
  },
  {
   "cell_type": "code",
   "execution_count": null,
   "metadata": {},
   "outputs": [],
   "source": [
    "s = \"super turtle\"\n",
    "print(s[7:len(s)])"
   ]
  },
  {
   "cell_type": "markdown",
   "metadata": {},
   "source": [
    "This technique becomes much more powerful when we combine it with the [string `find` method](https://docs.python.org/3/library/stdtypes.html#string-methods).\n",
    "\n",
    "`str.find(value)` returns the lowest index that the element occurs at and -1 if it doesn't."
   ]
  },
  {
   "cell_type": "code",
   "execution_count": null,
   "metadata": {},
   "outputs": [],
   "source": [
    "s = \"super turtle\"\n",
    "print(s[s.find(\"t\"):len(s)])"
   ]
  },
  {
   "cell_type": "markdown",
   "metadata": {},
   "source": [
    "Slicing works exactly the same with lists as it does with strings!"
   ]
  },
  {
   "cell_type": "markdown",
   "metadata": {},
   "source": [
    "Using negative numbers\n",
    "-------------------\n",
    "\n",
    "Python lets us access indices using negative numbers as well.\n",
    "\n",
    "-1 maps to the last index, -2 to the second to last, etc."
   ]
  },
  {
   "cell_type": "code",
   "execution_count": null,
   "metadata": {},
   "outputs": [],
   "source": [
    "s = \"super turtle\"\n",
    "print(s[-1])"
   ]
  },
  {
   "cell_type": "code",
   "execution_count": null,
   "metadata": {},
   "outputs": [],
   "source": [
    "s = \"super turtle\"\n",
    "print(s[-2])"
   ]
  },
  {
   "cell_type": "code",
   "execution_count": null,
   "metadata": {},
   "outputs": [],
   "source": [
    "s = \"super turtle\"\n",
    "print(s[-2:])"
   ]
  },
  {
   "cell_type": "code",
   "execution_count": null,
   "metadata": {},
   "outputs": [],
   "source": [
    "s = \"super turtle\"\n",
    "print(s[:-2])"
   ]
  }
 ],
 "metadata": {
  "kernelspec": {
   "display_name": "Python 3",
   "language": "python",
   "name": "python3"
  },
  "language_info": {
   "codemirror_mode": {
    "name": "ipython",
    "version": 3
   },
   "file_extension": ".py",
   "mimetype": "text/x-python",
   "name": "python",
   "nbconvert_exporter": "python",
   "pygments_lexer": "ipython3",
   "version": "3.6.1"
  }
 },
 "nbformat": 4,
 "nbformat_minor": 2
}

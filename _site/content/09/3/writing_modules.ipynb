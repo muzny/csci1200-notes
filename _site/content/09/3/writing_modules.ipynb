{
 "cells": [
  {
   "cell_type": "markdown",
   "metadata": {},
   "source": [
    "Writing your own modules\n",
    "====================\n",
    "\n",
    "At its basis, a module is just python code. This means that we already have the skills to write a module of our own. Similarly to using custom modules, writing custom modules requires two steps.\n",
    "\n",
    "Step 1: Create the `.py` file for your module\n",
    "----------------------\n",
    "For your module, you'll want to create a new `.py` file. The module name will be the name of the file before the `.py` part. If, for example, we wanted to create a module with some math functions inside of it, we might create the file `mymath.py`. Then, inside this file, we would write the definitions of the functions that we want to provide.\n",
    "\n",
    "```python\n",
    "# a small module containing one function\n",
    "\n",
    "# This function adds the absolute values of \n",
    "# two numbers together\n",
    "# Params: \n",
    "# int - the first number to add\n",
    "# int - the second number to add\n",
    "# Returns the sum of the absolute values of the two numbers\n",
    "def add_absolute(num1, num2):\n",
    "    abs_sum = abs(num1) + abs(num2)\n",
    "    return abs_sum\n",
    "```"
   ]
  },
  {
   "cell_type": "markdown",
   "metadata": {},
   "source": [
    "\n",
    "Step 2: Import the module into your code\n",
    "----------------------\n",
    "\n",
    "To actually use and/or access \n"
   ]
  },
  {
   "cell_type": "code",
   "execution_count": null,
   "metadata": {},
   "outputs": [],
   "source": []
  },
  {
   "cell_type": "markdown",
   "metadata": {},
   "source": [
    "`main` and `if __name__ == \"__main__\"`:\n",
    "------------------\n",
    "\n",
    "Another common programming pattern that you will likely encounter in python is when we hide the call to `main` in a guard that prevents the  main function from running if this code was imported as a module.\n",
    "\n",
    "\n",
    "```python\n",
    "def main():\n",
    "    # code to run our program goes here\n",
    "    \n",
    "# two underscores precede and succeed \"name\" and \"main\" this is\n",
    "# important that you type exactly like this\n",
    "if __name__ == \"__main__\":\n",
    "    main()\n",
    "```\n",
    "\n",
    "We'll talk more about the more techincal reasons that we do this when we talk about modules."
   ]
  },
  {
   "cell_type": "code",
   "execution_count": null,
   "metadata": {},
   "outputs": [],
   "source": []
  }
 ],
 "metadata": {
  "kernelspec": {
   "display_name": "Python 3",
   "language": "python",
   "name": "python3"
  },
  "language_info": {
   "codemirror_mode": {
    "name": "ipython",
    "version": 3
   },
   "file_extension": ".py",
   "mimetype": "text/x-python",
   "name": "python",
   "nbconvert_exporter": "python",
   "pygments_lexer": "ipython3",
   "version": "3.6.1"
  }
 },
 "nbformat": 4,
 "nbformat_minor": 2
}

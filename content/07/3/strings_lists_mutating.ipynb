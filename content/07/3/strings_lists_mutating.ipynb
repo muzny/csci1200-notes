{
 "cells": [
  {
   "cell_type": "markdown",
   "metadata": {},
   "source": [
    "Mutation in strings and lists\n",
    "=========================\n",
    "\n",
    "Say we have a string and want to change it to upper case. We've learned that we can use the `str.upper()` function to acheive this:\n",
    "\n",
    "```python\n",
    "s = \"Xena, Warrior Princess\"\n",
    "uppercase = s.upper()\n",
    "print(s)  # still the mixed-case version\n",
    "print(uppercase)  # upper case version\n",
    "```\n",
    "\n",
    "But what do we do if we __only__ want to change the first 4 letters to uppercase? For \"XENA, Warrior Princess\"?\n",
    "\n",
    "We might be tempted to write code like in the following cell:"
   ]
  },
  {
   "cell_type": "code",
   "execution_count": null,
   "metadata": {},
   "outputs": [],
   "source": [
    "# TODO: run me! What happens?\n",
    "# Answer:\n",
    "\n",
    "s = \"Xena, Warrior Princess\"\n",
    "s[0] = s[0].upper()\n",
    "s[1] = s[1].upper()\n",
    "s[2] = s[2].upper()\n",
    "s[3] = s[3].upper()"
   ]
  },
  {
   "cell_type": "markdown",
   "metadata": {},
   "source": [
    "The `TypeError` that we get from this is because strings are __immutable__.\n",
    "\n",
    "__immutable__: unchangeable\n",
    "\n",
    "What's happenning in the background when we have the following code is that we're actually *creating new strings*.\n",
    "\n",
    "```python\n",
    "s = \"cat\"\n",
    "s = s + \"dog\"  # creating a new string and assigning it to s\n",
    "```\n",
    "\n",
    "This is why we need to use the accumulator pattern when we're creating new strings — we're rebuilding new strings from old ones."
   ]
  },
  {
   "cell_type": "markdown",
   "metadata": {},
   "source": [
    "Lists & mutability\n",
    "---------\n",
    "\n",
    "Lists are __mutable__.\n",
    "\n",
    "__mutable__: changeable\n",
    "\n",
    "This means that we *can* update the contents of a list.\n",
    "\n",
    "For example, let's take a look at the following code."
   ]
  },
  {
   "cell_type": "code",
   "execution_count": null,
   "metadata": {},
   "outputs": [],
   "source": [
    "# TODO: run me! What happens?\n",
    "# Answer:\n",
    "\n",
    "word_list = [\"Xena\", \"Warrior\", \"Princess\"]\n",
    "word_list[0] = word_list[0].upper()\n",
    "\n",
    "print(word_list)"
   ]
  },
  {
   "cell_type": "markdown",
   "metadata": {},
   "source": [
    "Notice that this is a way that strings and lists are different from each other!\n",
    "\n",
    "List mutating functions (adding and deleting elements)\n",
    "---------------\n",
    "\n",
    "Take a look at the following functions: `list.append(element)` and `del list[index]`. These are how we add and delete values to/from lists. They are __mutator__ functions -- they change the value of the list instead of returning a new version of the list to us."
   ]
  },
  {
   "cell_type": "code",
   "execution_count": null,
   "metadata": {},
   "outputs": [],
   "source": [
    "# TODO: run me\n",
    "\n",
    "my_list = [1, 2]\n",
    "print(\"Before: \" + str(my_list))\n",
    "my_list.append(7)\n",
    "my_list.append(14)\n",
    "print(\"After: \" + str(my_list))"
   ]
  },
  {
   "cell_type": "code",
   "execution_count": null,
   "metadata": {},
   "outputs": [],
   "source": [
    "# TODO: run me\n",
    "\n",
    "my_list = [1, 2]\n",
    "print(\"Before: \" + str(my_list))\n",
    "del my_list[0]\n",
    "print(\"After 1: \" + str(my_list))\n",
    "del my_list[0]\n",
    "print(\"After 2: \" + str(my_list))"
   ]
  },
  {
   "cell_type": "markdown",
   "metadata": {},
   "source": [
    "Mutator functions vs. pure functions\n",
    "----------------------------\n",
    "\n",
    "We say that a mutator function is any function that *changes the contents* of the list passed to it.\n",
    "\n",
    "We say that a pure function is any function that *returns a new list* rather than changing the contents of the list passed to it."
   ]
  },
  {
   "cell_type": "code",
   "execution_count": null,
   "metadata": {},
   "outputs": [],
   "source": [
    "# TODO: compare and contrast the behavior of the following two functions\n",
    "# Call these functions and see how they are different from one another!\n",
    "def list_add_one_mutate(my_list):\n",
    "    for i in range(len(my_list)):\n",
    "        my_list[i] += 1\n",
    "        \n",
    "def list_add_one_pure(my_list):\n",
    "    added = []\n",
    "    for i in range(len(my_list)):\n",
    "        added.append(my_list[i] + 1)\n",
    "    return added"
   ]
  },
  {
   "cell_type": "markdown",
   "metadata": {},
   "source": [
    "You might have guessed that this mutation behavior of lists can make the question of scope quite complicated--that's a correct intuition.\n",
    "\n",
    "Lists as parameters and Scope\n",
    "---------------\n",
    "\n",
    "There will be a whole section of course notes exploring how complicated this is but for the time being here's a summary: when lists are passed as parameters, their value is not passed (like `str`, `int`, `float`, and `bool`), *__rather, the actual list that you are working with is passed to the function__*. No copies are made.\n",
    "\n",
    "It's like lending your friend your notebook (lists) instead of making a copy of one of the pages (as with `str`, `int`, `float`, and `bool`)."
   ]
  },
  {
   "cell_type": "code",
   "execution_count": null,
   "metadata": {},
   "outputs": [],
   "source": []
  }
 ],
 "metadata": {
  "kernelspec": {
   "display_name": "Python 3",
   "language": "python",
   "name": "python3"
  },
  "language_info": {
   "codemirror_mode": {
    "name": "ipython",
    "version": 3
   },
   "file_extension": ".py",
   "mimetype": "text/x-python",
   "name": "python",
   "nbconvert_exporter": "python",
   "pygments_lexer": "ipython3",
   "version": "3.6.1"
  }
 },
 "nbformat": 4,
 "nbformat_minor": 2
}

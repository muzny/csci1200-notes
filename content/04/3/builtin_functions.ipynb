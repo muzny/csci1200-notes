{
 "cells": [
  {
   "cell_type": "markdown",
   "metadata": {},
   "source": [
    "Built-in Functions\n",
    "==========\n",
    "\n",
    "See the previous section of these notes for information about how to use functions. This section is mostly a guide on what parameters and returns some (not all!) built in python functions take."
   ]
  },
  {
   "cell_type": "markdown",
   "metadata": {},
   "source": [
    "\"Regular\" built-in functions (non-string)\n",
    "--------------\n",
    "The [python documentation](https://docs.python.org/3/library/functions.html) for functions can be a bit confusing. Let's walk through an example by looking at the `len()` function:\n",
    "\n",
    "\n",
    "`len(s)`\n",
    "\n",
    "    Return the length (the number of items) of an object. The argument may be a sequence (such as a string, bytes, tuple, list, or range) or a collection (such as a dictionary, set, or frozen set).\n",
    "\n",
    "\n",
    "This documentation talks about a lot of things that we don't know yet. That's ok!\n",
    "\n",
    "The important parts:\n",
    "1. `len(s)` -- this says that this function takes 1 parameter!\n",
    "2. \"Return the length (the number of items) of an object\" -- this says that this function has a return value that is the length of the passed in parameter.\n",
    "3. \"The argument may be a sequence (such as a __string__, bytes, tuple, list, or range) or a collection (such as a dictionary, set, or frozen set).\" -- this says what we can pass in to this function. __For us right now__, we just care that it says that we can pass in a string as a parameter.\n",
    "\n",
    "Next, we'll provide some pared-down definitions of built-in functions for you that should be a little clearer, but you shouldn't be afraid of consulting the official python documentation!\n",
    "\n",
    "If you ever have a question about documentation, feel free to post on piazza or come to office hours and we will help translate.\n",
    "\n",
    "Note that the following definitions given are tailored specifically to where we are currently at in this course."
   ]
  },
  {
   "cell_type": "markdown",
   "metadata": {},
   "source": [
    "[`abs(value)`](https://docs.python.org/3/library/functions.html#abs): we're letting you explore this one on your own!"
   ]
  },
  {
   "cell_type": "markdown",
   "metadata": {},
   "source": [
    "[`bool(value)`](https://docs.python.org/3/library/functions.html#int): returns the `float` version of the given value."
   ]
  },
  {
   "cell_type": "markdown",
   "metadata": {},
   "source": [
    "[`float(value)`](https://docs.python.org/3/library/functions.html#int): returns the `float` version of the given value."
   ]
  },
  {
   "cell_type": "markdown",
   "metadata": {},
   "source": [
    "[`input(prompt)`](https://docs.python.org/3/library/functions.html#input): prints out the given prompt, then waits for the user to enter input and returns it as a string."
   ]
  },
  {
   "cell_type": "markdown",
   "metadata": {},
   "source": [
    "[`int(value)`](https://docs.python.org/3/library/functions.html#int): returns the `int` version of the given value."
   ]
  },
  {
   "cell_type": "markdown",
   "metadata": {},
   "source": [
    "[`len(string)`](https://docs.python.org/3/library/functions.html#len): returns the length (`int`) of a given string"
   ]
  },
  {
   "cell_type": "markdown",
   "metadata": {},
   "source": [
    "[`print(variable parameters)`](https://docs.python.org/3/library/functions.html#print): prints out a string representation of the given parameters to standard out. `print()` prints a new line. `print(7)` prints the `str()` version of `7`. `print(string1, string2, etc)` will print out all strings given separated by a space."
   ]
  },
  {
   "cell_type": "markdown",
   "metadata": {},
   "source": [
    "[`max(number1, [number2, number 3, etc])`](https://docs.python.org/3/library/functions.html#max): returns the maximum value among the arguments given. You can use this function with any number greater than or equal to one of arguments."
   ]
  },
  {
   "cell_type": "markdown",
   "metadata": {},
   "source": [
    "[`min(number1, [number2, number 3, etc])`](https://docs.python.org/3/library/functions.html#min): returns the minimum value among the arguments given. You can use this function with any number greater than or equal to one of arguments."
   ]
  },
  {
   "cell_type": "markdown",
   "metadata": {},
   "source": [
    "[`range(number1, [number2])`](https://docs.python.org/3/library/functions.html#range): ??? we're letting you explore this in Homework 2. We will tell you that the second number parameter is optional."
   ]
  },
  {
   "cell_type": "markdown",
   "metadata": {},
   "source": [
    "[`round(number, [places])`](https://docs.python.org/3/library/functions.html#round): returns the rounded version of the given number to the given number of places. The `places` parameter is optional. Both `round(number)` and `round(number, places)` work."
   ]
  },
  {
   "cell_type": "markdown",
   "metadata": {},
   "source": [
    "[`type(value)`](https://docs.python.org/3/library/functions.html#type): returns the data type of the given value."
   ]
  },
  {
   "cell_type": "code",
   "execution_count": null,
   "metadata": {},
   "outputs": [],
   "source": [
    "# TODO: experiment with these functions!"
   ]
  },
  {
   "cell_type": "markdown",
   "metadata": {},
   "source": [
    "Built-in `string` functions\n",
    "----------------------\n",
    "Here is the [python documentation for built-in string functions](https://docs.python.org/3/library/stdtypes.html#string-methods). We've provided some paired down descriptions below. Remember that the syntax for [using string functions](../2/using_functions.html#string-functions) is slightly different than for our regular built-in functions."
   ]
  },
  {
   "cell_type": "markdown",
   "metadata": {},
   "source": [
    "`str.capitalize()`: return a copy of the string with its first character capitalized and the rest lowercased."
   ]
  },
  {
   "cell_type": "markdown",
   "metadata": {},
   "source": [
    "`str.islower()`: return True if the string is all lower case and False otherwise."
   ]
  },
  {
   "cell_type": "markdown",
   "metadata": {},
   "source": [
    "`str.isupper()`: return True if the string is all upper case and False otherwise."
   ]
  },
  {
   "cell_type": "markdown",
   "metadata": {},
   "source": [
    "`str.lower()`: return a lower case version of the string"
   ]
  },
  {
   "cell_type": "markdown",
   "metadata": {},
   "source": [
    "`str.upper()`: return an upper case version of the string"
   ]
  },
  {
   "cell_type": "markdown",
   "metadata": {},
   "source": [
    "`str.count(value)`: return the number of times `value` occurs in `str`"
   ]
  },
  {
   "cell_type": "markdown",
   "metadata": {},
   "source": [
    "`str.replace(value1, value2)`: return the `str` with all occurrences of `value1` replaced with `value2`"
   ]
  },
  {
   "cell_type": "code",
   "execution_count": null,
   "metadata": {},
   "outputs": [],
   "source": [
    "# TODO: experiment with the string functions!"
   ]
  }
 ],
 "metadata": {
  "kernelspec": {
   "display_name": "Python 3",
   "language": "python",
   "name": "python3"
  },
  "language_info": {
   "codemirror_mode": {
    "name": "ipython",
    "version": 3
   },
   "file_extension": ".py",
   "mimetype": "text/x-python",
   "name": "python",
   "nbconvert_exporter": "python",
   "pygments_lexer": "ipython3",
   "version": "3.6.1"
  }
 },
 "nbformat": 4,
 "nbformat_minor": 2
}

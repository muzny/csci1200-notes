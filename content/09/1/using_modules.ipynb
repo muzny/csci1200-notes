{
 "cells": [
  {
   "cell_type": "markdown",
   "metadata": {},
   "source": [
    "Using Modules\n",
    "=============\n",
    "\n",
    "In python code, we may want to access functions that are not automatically included (unlike the built-in functions). There are a number of collections of functions that we can use by \"importing their modules\". A module is a collection of python functions.\n",
    "\n",
    "A module might be provided by default with your installed of the python programming language, you might download a module that someone else has written, or you might even write your own module.\n",
    "\n",
    "No matter which of these kinds of modules you are working with, how you use them will be almost exactly the same."
   ]
  },
  {
   "cell_type": "markdown",
   "metadata": {},
   "source": [
    "Taking a closer look: `random`\n",
    "----------------\n",
    "There many, many python modules but we will focus on one of them for the time being: `random`.\n",
    "\n",
    "`random` will let us generate (pseudo) random numbers. (Generating a truly random number is *__extremely__* hard; most programming languages have default modules that generate *seemingly* random numbers.)\n",
    "\n",
    "When we want to access the functionality of a module, we need to __import that module__.\n",
    "\n",
    "Since these modules are provided with python by default, we don't need to install anything extra before we can access them. We do, however, need to say in our programs that we would like to access them!"
   ]
  },
  {
   "cell_type": "markdown",
   "metadata": {},
   "source": [
    "Importing Modules\n",
    "--------------\n",
    "\n",
    "There are a number of ways to import modules. Let's get started by taking a look at the \"most basic\":\n",
    "\n",
    "```python\n",
    "import modulename   # goes at the top of your program\n",
    "\n",
    "# you can access functions from the module later like this\n",
    "modulename.functionname()\n",
    "```\n",
    "\n",
    "Let's take a look at a live example with [the random module](https://docs.python.org/3/library/random.html), using [the functions that it provides for integers](https://docs.python.org/3/library/random.html#functions-for-integers)."
   ]
  },
  {
   "cell_type": "code",
   "execution_count": null,
   "metadata": {},
   "outputs": [],
   "source": [
    "import random\n",
    "\n",
    "\n",
    "# generate one random number between 0 (inclusive) and 5 (inclusive)\n",
    "x = random.randint(0, 5)\n",
    "print(x)\n",
    "\n",
    "# generate one random number between 0 (inclusive) and 2 (exclusive)\n",
    "y = random.randrange(0, 2)\n",
    "print(y)\n",
    "\n",
    "# generate one random number between 1 (inclusive) and 100 (exclusive)\n",
    "# selecting from only the odd numbers\n",
    "z = random.randrange(1, 100, 2)\n",
    "print(z)\n"
   ]
  },
  {
   "cell_type": "markdown",
   "metadata": {},
   "source": [
    "There are three other ways of importing modules that you may see:\n",
    "\n",
    "1. `import module as name`: same as `import module`, but gives a \"nickname\" to the module so its functions would be accessed via `name.function()` rather than `module.function()`. It's fine with us if you use this strategy __so long as your name for the module is sensible__. This strategy is very useful when you are frequently accessing the functions in a module so that you don't have to type quite as much!\n",
    "\n",
    "See the example below [using the calendar module](https://docs.python.org/3/library/calendar.html#module-calendar)"
   ]
  },
  {
   "cell_type": "code",
   "execution_count": null,
   "metadata": {},
   "outputs": [],
   "source": [
    "import calendar as cal\n",
    "\n",
    "# get the day number of the given year, month, day\n",
    "# 0 is Monday, 1 is Tuesday, 2 is Wednesday, etc\n",
    "day_num = cal.weekday(2019, 8, 26)\n",
    "print(day_num)\n",
    "\n",
    "# get a string calendar for a given year\n",
    "c = cal.calendar(2019)\n",
    "print(c)"
   ]
  },
  {
   "cell_type": "markdown",
   "metadata": {},
   "source": [
    "2. `from module import *`: imports all functions from a module directly so you just use `function()` to call the functions rather than `module.function()`. __We prefer `import module` because it makes it clearer where our different functions are coming from__.\n",
    "\n",
    "See the example below [using the math module](https://docs.python.org/3/library/math.html#module-math)"
   ]
  },
  {
   "cell_type": "code",
   "execution_count": null,
   "metadata": {},
   "outputs": [],
   "source": [
    "from math import *\n",
    "\n",
    "# return the ceiling of the given number\n",
    "up = ceil(5.3)\n",
    "print(up)\n",
    "\n",
    "# is the sqrt function a default function or a math function?\n",
    "root = sqrt(144)\n",
    "print(root)\n",
    "\n",
    "# what about the sum function?\n",
    "s = sum([1, 2, 6, 99])\n",
    "print(s)"
   ]
  },
  {
   "cell_type": "markdown",
   "metadata": {},
   "source": [
    "\n",
    "3. `from module import specific_piece`: imports only the specified functions/objects from a module directly so you just use `function()` to call the functions rather than `module.function()`. __We prefer `import module` because it makes it clearer where our different functions are coming from__.\n",
    "\n",
    "This is useful if a module is large and you onlky need one specific piece. See the example below using the `calendar` module."
   ]
  },
  {
   "cell_type": "code",
   "execution_count": null,
   "metadata": {},
   "outputs": [],
   "source": [
    "from calendar import weekday\n",
    "\n",
    "# NOTICE that we no longer say calendar.weekday(params)\n",
    "# get the day number of the given year, month, day\n",
    "# 0 is Monday, 1 is Tuesday, 2 is Wednesday, etc\n",
    "day_num = weekday(2019, 12, 12)\n",
    "print(day_num)"
   ]
  },
  {
   "cell_type": "code",
   "execution_count": null,
   "metadata": {},
   "outputs": [],
   "source": []
  }
 ],
 "metadata": {
  "kernelspec": {
   "display_name": "Python 3",
   "language": "python",
   "name": "python3"
  },
  "language_info": {
   "codemirror_mode": {
    "name": "ipython",
    "version": 3
   },
   "file_extension": ".py",
   "mimetype": "text/x-python",
   "name": "python",
   "nbconvert_exporter": "python",
   "pygments_lexer": "ipython3",
   "version": "3.6.1"
  }
 },
 "nbformat": 4,
 "nbformat_minor": 2
}

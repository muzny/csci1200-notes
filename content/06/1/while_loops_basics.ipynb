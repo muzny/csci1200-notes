{
 "cells": [
  {
   "cell_type": "markdown",
   "metadata": {},
   "source": [
    "`while` Loops\n",
    "=======\n",
    "\n",
    "A `while` loop is a control structure (similar to how a conditional statement is a control structure) that we use to repeat certain pieces of code (and avoid all that copy-pasting).\n",
    "\n",
    "We use while loops to repeat a block of code either a _predetermined_ number of times or an _unknown_ number of times.\n",
    "\n",
    "When we say that something is happening a _predetermined_ number of times this could be two different scenarios:\n",
    "1. There is a specific number that you, the programmer, knows and can write down. e.g. \"I want to do task X 5 times\"\n",
    "2. There is a specific number that the code knows and can calculate. e.g. \"I want to do task X once per letter in the user's input\"\n",
    "\n",
    "When we say that something is happening an _unknown_ number of times, this means that neither the programmer nor the code knows how many times that will be. Take a look at the following examples.\n",
    "- \"I want to do task X until the user enters the number zero\"\n",
    "- \"I want to roll a 6-sided die until I get a 6\"\n",
    "\n",
    "In both of these scenarios, it is impossible for us to know or calculate how many times we'll need to complete task X ahead of time."
   ]
  },
  {
   "cell_type": "markdown",
   "metadata": {},
   "source": [
    "Syntax\n",
    "-----\n",
    "\n",
    "Let's take a look at the syntax of a `while` loop.\n",
    "\n",
    "```python\n",
    "while logical_expression:\n",
    "    # do things\n",
    "    print(1) # for example, print the number 1\n",
    "    \n",
    "print(\"done\")  # this is outside the while loop\n",
    "```\n",
    "\n",
    "There are a few important pieces here:\n",
    "1. `logical_expression` this will be how our program determines whether or not the loop needs to be run again. It's the same as a logical expression in an `if` statement!\n",
    "2. __indentation__: notice that everything that we want repeated __must__ be indented \"inside\" the `while` loop. Once we return to our base level of indentation, the code will no longer be repeated.\n",
    "\n",
    "Let's take a look at an example that we can run."
   ]
  },
  {
   "cell_type": "code",
   "execution_count": null,
   "metadata": {},
   "outputs": [],
   "source": [
    "# TODO: run this code!\n",
    "\n",
    "x = 0\n",
    "while x < 10:\n",
    "    print(x)\n",
    "    # what do you think would happen if we didn't include this line?\n",
    "    x = x + 1   # update the value stored in the variable x\n",
    "    \n",
    "print(\"done!\")  # how many times is this printed out?"
   ]
  },
  {
   "cell_type": "code",
   "execution_count": null,
   "metadata": {},
   "outputs": [],
   "source": [
    "# TODO: run this code!\n",
    "# What is the difference between this example and \n",
    "# the previous one?\n",
    "\n",
    "x = 0\n",
    "while x < 10:\n",
    "    print(x)\n",
    "    x = x + 2   # update the value stored in the variable x\n",
    "    \n",
    "print(\"done!\")  # how many times is this printed out?"
   ]
  },
  {
   "cell_type": "markdown",
   "metadata": {},
   "source": [
    "The way that `while` loops work is that they iterate _while_ the test is `True`. You can verbalize this example as \"print out the even values of `x` while `x` is less than 10\"."
   ]
  },
  {
   "cell_type": "markdown",
   "metadata": {},
   "source": [
    "Updating\n",
    "---------\n",
    "\n",
    "When we write `while` loops it's *__very__* important that we include an update to the variable that we are testing in the `logical_expression`.\n",
    "\n",
    "If we forget to do this, we will cause an __infinite loop__ from which our program will never ever ever exit."
   ]
  },
  {
   "cell_type": "code",
   "execution_count": null,
   "metadata": {},
   "outputs": [],
   "source": [
    "# TODO: run this code,\n",
    "# but be ready to refresh this page to make the code\n",
    "# stop running!\n",
    "# If you are running this code in a jupyter notebook,\n",
    "# be ready to press the stop button!\n",
    "\n",
    "x = 0\n",
    "while x < 10: # x is never updated\n",
    "    print(x)\n",
    "    \n",
    "print(\"done!\")  # how many times is this printed out?"
   ]
  },
  {
   "cell_type": "markdown",
   "metadata": {},
   "source": [
    "A \"Standard\" `while` Loop\n",
    "----------------\n",
    "\n",
    "Let's take the pieces that we've just gone over and combine them to create a \"standard\" formula for a `while` loop. Not all `while` loops will look exactly like this, but the vast majority will!\n",
    "\n",
    "For this formula, we'll call the variable that we use to determine if the loop is done or not our \"tracker\" variable.\n",
    "\n",
    "```python\n",
    "tracker = value  # 1) initialize the tracker variable\n",
    "while logical_expression: # 2) are we done? \n",
    "    # code that we want repeated goes here\n",
    "    tracker = new_value  # 3) update the value of our tracker variable \n",
    "```\n",
    "\n",
    "Let's take a moment to clarify each of these important steps:\n",
    "1. __initialize__: we need to set our tracker variable to an initial value that will let our while loop begin. This must happen before (\"outside\") of the while loop. If we are repeating code 10 times, we might initialize this to 0, indicating that the loop has iterated 0 times so far.\n",
    "2. __are we done?__: test the tracker variable's value against some other value. For instance, the test `tracker < 10` would say \"run this loop until the value of `tracker` is 10 or more. Always double check this test!\n",
    "3. __update__: make sure that inside your loop you update the variable that you are testing in step 2 in some way! If you leave this out, this will create an infinite loop! For our running example, this update would be `tracker = tracker + 1` or `tracker += 1`.\n",
    "\n",
    "The examples from the outlined steps above would create a while loop as follows:\n",
    "\n",
    "```python\n",
    "tracker = 0  # 1) initialize the tracker variable\n",
    "while tracker < 10: # 2) are we done? \n",
    "    # so that we can see the loop progressing in this example\n",
    "    print(tracker)  \n",
    "    tracker = tracker + 1  # 3) update the value of our tracker variable \n",
    "```  \n",
    "    \n",
    "    "
   ]
  },
  {
   "cell_type": "markdown",
   "metadata": {},
   "source": [
    "A closer look at the `logical_expression`\n",
    "-------------------\n",
    "\n",
    "Our `logical_expression` is going to *__almost always__* (always for the purposes and intents of this class) involve testing the value of one or more variables against some other values. For instance, `x < 0` or `x != y`.\n",
    "\n",
    "Remember to always double check for the three steps outlined in the section above:\n",
    "1. __initialize__\n",
    "2. __are we done?__ \n",
    "3. __update__\n",
    "\n",
    "Take a look at the following examples:"
   ]
  },
  {
   "cell_type": "code",
   "execution_count": null,
   "metadata": {},
   "outputs": [],
   "source": [
    "# TODO: run this code!\n",
    "\n",
    "x = 100  # initialize\n",
    "while x > 0: # double check this test!\n",
    "    print(x)\n",
    "    x = x - (x % 3 + 1)  # this update will always run\n",
    "    \n",
    "print(\"done!\")  # how many times is this printed out?"
   ]
  },
  {
   "cell_type": "code",
   "execution_count": null,
   "metadata": {},
   "outputs": [],
   "source": [
    "# TODO: run me!\n",
    "\n",
    "x = 100  # initialize\n",
    "while x > 0: # double check this test!\n",
    "    print(x)\n",
    "    value = int(input(\"Enter a number: \"))\n",
    "    if value >= 0:\n",
    "        x = x - value  # doesn't always update, but CAN update\n",
    "    \n",
    "print(\"done!\")  # how many times is this printed out?"
   ]
  },
  {
   "cell_type": "code",
   "execution_count": null,
   "metadata": {},
   "outputs": [],
   "source": []
  }
 ],
 "metadata": {
  "kernelspec": {
   "display_name": "Python 3",
   "language": "python",
   "name": "python3"
  },
  "language_info": {
   "codemirror_mode": {
    "name": "ipython",
    "version": 3
   },
   "file_extension": ".py",
   "mimetype": "text/x-python",
   "name": "python",
   "nbconvert_exporter": "python",
   "pygments_lexer": "ipython3",
   "version": "3.6.1"
  }
 },
 "nbformat": 4,
 "nbformat_minor": 2
}

{
 "cells": [
  {
   "cell_type": "markdown",
   "metadata": {},
   "source": [
    "The Accumulator Pattern\n",
    "==============\n",
    "\n",
    "When writing `for` loops there are certain patterns that you will see over and over and over again. The accumulator pattern is the most common.\n",
    "\n",
    "Say, for example, that we want to count the number of times that a `for` loop runs."
   ]
  },
  {
   "cell_type": "code",
   "execution_count": null,
   "metadata": {},
   "outputs": [],
   "source": [
    "# TODO: run this cell. What happens?\n",
    "# Answer:\n",
    "\n",
    "secret_number = 97 # pretend that you don't know the value of this number\n",
    "\n",
    "for num in range(secret_number):\n",
    "    count = count + 1  # every time the loop runs, we will increment a variable\n",
    "    \n",
    "print(count) # then print it out at the end"
   ]
  },
  {
   "cell_type": "markdown",
   "metadata": {},
   "source": [
    "Here, we get a name error. This is equivalent to saying something like `x = x + 1` when we haven't yet declared x as a variable.\n",
    "\n",
    "The accumulator pattern looks like:\n",
    "\n",
    "```python\n",
    "\n",
    "count = 0  # 1) declare your accumulator variable\n",
    "for num in range(secret_number):\n",
    "    count = count + 1  # 2) update your accumulator variable\n",
    "print(count)  # 3) when the loop is done, your accumulated value will be stored\n",
    "```\n",
    "\n",
    "__Think of the accumulator pattern as what allows your program to remember values across iterations of a for loop.__"
   ]
  },
  {
   "cell_type": "code",
   "execution_count": null,
   "metadata": {},
   "outputs": [],
   "source": [
    "# TODO: run me\n",
    "secret_number = 12\n",
    "\n",
    "count = 0  # 1) declare your accumulator variable\n",
    "for num in range(secret_number):\n",
    "    count = count + 1  # 2) update your accumulator variable\n",
    "print(count)  # 3) when the loop is done, your accumulated value will be stored"
   ]
  },
  {
   "cell_type": "code",
   "execution_count": null,
   "metadata": {},
   "outputs": [],
   "source": [
    "# TODO: Modify the following code to accumulate the sum of all values\n",
    "# that the loop loops over (in this instance, sum the numbers 1 through 12)\n",
    "secret_number = 12\n",
    "\n",
    "count = 0  # 1) declare your accumulator variable\n",
    "for num in range(secret_number):\n",
    "    count = count + 1  # 2) update your accumulator variable\n",
    "print(count)  #"
   ]
  },
  {
   "cell_type": "markdown",
   "metadata": {},
   "source": [
    "This is the pattern that you will use to create new strings with for loops, calculate factorials (n!), calculate numbers in the fibonacci sequence, and generally update values as iterations happen. "
   ]
  },
  {
   "cell_type": "markdown",
   "metadata": {},
   "source": [
    "Some non-working examples\n",
    "------------\n",
    "\n",
    "Let's examine why the following example doesn't work (even though they don't cause errors)."
   ]
  },
  {
   "cell_type": "code",
   "execution_count": null,
   "metadata": {},
   "outputs": [],
   "source": [
    "# Example 1\n",
    "for num in range(54):\n",
    "    count = 1  # this resets count to 1 each time the loop iterates\n",
    "    count = count + 1\n",
    "print(count)"
   ]
  },
  {
   "cell_type": "code",
   "execution_count": null,
   "metadata": {},
   "outputs": [],
   "source": [
    "# Example 2\n",
    "count = 0\n",
    "for num in range(54):\n",
    "    count = 1  # this resets count to 1 each time the loop iterates (doesn't add)\n",
    "print(count)"
   ]
  },
  {
   "cell_type": "code",
   "execution_count": null,
   "metadata": {},
   "outputs": [],
   "source": [
    "# Example 3\n",
    "count = 0\n",
    "for num in range(54):\n",
    "    count = num # this sets count equal to the value of num on each iteration\n",
    "print(count)"
   ]
  },
  {
   "cell_type": "code",
   "execution_count": null,
   "metadata": {},
   "outputs": [],
   "source": []
  }
 ],
 "metadata": {
  "kernelspec": {
   "display_name": "Python 3",
   "language": "python",
   "name": "python3"
  },
  "language_info": {
   "codemirror_mode": {
    "name": "ipython",
    "version": 3
   },
   "file_extension": ".py",
   "mimetype": "text/x-python",
   "name": "python",
   "nbconvert_exporter": "python",
   "pygments_lexer": "ipython3",
   "version": "3.6.1"
  }
 },
 "nbformat": 4,
 "nbformat_minor": 2
}

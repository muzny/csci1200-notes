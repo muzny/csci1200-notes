{
 "cells": [
  {
   "cell_type": "markdown",
   "metadata": {},
   "source": [
    "Nested `for` loops\n",
    "===========\n",
    "\n",
    "There are many cases when you want to have iteration happen *within* an iteration. In this case, we will \"nest\" our loops--put one loop inside of another loop.\n",
    "\n",
    "```python\n",
    "for outer_loop_value in range(10):\n",
    "    print(\"Outer: \" + str(outer_loop_value))\n",
    "    for inner_loop_value in range(5):\n",
    "        print(\"Inner: \" + str(inner_loop_value))\n",
    "```\n",
    "\n",
    "Notice that your inner `for` loop is entirely indented within the outer `for` loop.\n",
    "\n",
    "Each time the outer loop iterates in this example (total of 10 times), the inner loop will iterate 5 times. "
   ]
  },
  {
   "cell_type": "code",
   "execution_count": null,
   "metadata": {},
   "outputs": [],
   "source": [
    "# TODO: run me. (this example is the same except the value in the range()\n",
    "# function for the outer loop is smaller)\n",
    "for outer_loop_value in range(2):\n",
    "    print(\"Outer: \" + str(outer_loop_value))\n",
    "    for inner_loop_value in range(5):\n",
    "        print(\"Inner: \" + str(inner_loop_value))"
   ]
  },
  {
   "cell_type": "markdown",
   "metadata": {},
   "source": [
    "Notice that the inner loop \"starts over\" each time the outer loop iterates.\n",
    "\n",
    "We can comupute the total number of times the inner loop iterates with the following formula: \n",
    "\n",
    "```python\n",
    "total_inner_loop_iterations = outer_loop_iterations * inner_loop_iterations\n",
    "\n",
    "total_inner_loop_iterations = 2 * 5 # for the cell block above\n",
    "```"
   ]
  },
  {
   "cell_type": "markdown",
   "metadata": {},
   "source": [
    "Nested `for` loops with an accumulator\n",
    "-------------\n",
    "\n",
    "Recall the [accumulator pattern](02_accumulator.ipynb) from the previous section. Any for loop you have (whether it is an outer loop or an inner loop) can use the accumulator pattern."
   ]
  },
  {
   "cell_type": "code",
   "execution_count": null,
   "metadata": {},
   "outputs": [],
   "source": [
    "# TODO: run me\n",
    "for row in range(5):\n",
    "    s = \"\"  # 1) declare accumulator variable\n",
    "    for column in range(3):\n",
    "        # rememeber that += is the same as s = s + \"*\"\n",
    "        s += \"*\"  # 2) update variable\n",
    "    print(s)  # print result"
   ]
  },
  {
   "cell_type": "markdown",
   "metadata": {},
   "source": [
    "In the above example, the variable `s` will be reset each time the outer loop iterates.\n",
    "\n",
    "We could have produced the same output by using string multiplication in this instance:\n",
    "\n",
    "```python\n",
    "for row in range(5):\n",
    "    s = \"*\" * 3 # number of columns\n",
    "    print(s)\n",
    "```\n",
    "\n",
    "For some problems, we can't though. Imagine that we want to write a function that prints output like the following:\n",
    "\n",
    "```\n",
    "01234\n",
    "01234\n",
    "01234\n",
    "```\n",
    "\n",
    "In this function we want to be able to vary how many rows there are and how many columns there are."
   ]
  },
  {
   "cell_type": "code",
   "execution_count": null,
   "metadata": {},
   "outputs": [],
   "source": [
    "# TODO: run me. Call the function!\n",
    "# Notice that the step #2 for the accumulator variable\n",
    "# uses the value column (the value that the inner loop is iterating over)\n",
    "\n",
    "def numbers_string_box(rows, columns):\n",
    "    for row in range(rows):\n",
    "        s = \"\"  # 1) declare accumulator variable\n",
    "        for column in range(3):\n",
    "            s += str(column)  # 2) update variable\n",
    "        print(s)  # print result"
   ]
  },
  {
   "cell_type": "code",
   "execution_count": null,
   "metadata": {},
   "outputs": [],
   "source": [
    "numbers_string_box(3, 5)"
   ]
  },
  {
   "cell_type": "markdown",
   "metadata": {},
   "source": [
    "Now, what if we want to change our function from above to a function that prints output like the following:\n",
    "\n",
    "```\n",
    "01234\n",
    "12345\n",
    "23456\n",
    "```\n",
    "\n",
    "Notice that each number in this box is equal to `row + column`:\n",
    "\n",
    "```\n",
    "[0+0][0+1][0+2][0+3][0+4]\n",
    "[1+0][1+1][1+2][1+3][1+4]\n",
    "[2+0][2+1][2+2][2+3][2+4]\n",
    "```"
   ]
  },
  {
   "cell_type": "code",
   "execution_count": null,
   "metadata": {},
   "outputs": [],
   "source": [
    "# TODO: run me. Call the function!\n",
    "# Notice that the step #2 for the accumulator variable\n",
    "# uses BOTH the value column AND the value row\n",
    "\n",
    "def numbers_string_box(rows, columns):\n",
    "    for row in range(rows):\n",
    "        s = \"\"  # 1) declare accumulator variable\n",
    "        for column in range(3):\n",
    "            s += str(row + column)  # 2) update variable\n",
    "        print(s)  # print result"
   ]
  },
  {
   "cell_type": "code",
   "execution_count": null,
   "metadata": {},
   "outputs": [],
   "source": [
    "numbers_string_box(3, 5)"
   ]
  },
  {
   "cell_type": "code",
   "execution_count": null,
   "metadata": {},
   "outputs": [],
   "source": []
  }
 ],
 "metadata": {
  "kernelspec": {
   "display_name": "Python 3",
   "language": "python",
   "name": "python3"
  },
  "language_info": {
   "codemirror_mode": {
    "name": "ipython",
    "version": 3
   },
   "file_extension": ".py",
   "mimetype": "text/x-python",
   "name": "python",
   "nbconvert_exporter": "python",
   "pygments_lexer": "ipython3",
   "version": "3.7.3"
  }
 },
 "nbformat": 4,
 "nbformat_minor": 2
}

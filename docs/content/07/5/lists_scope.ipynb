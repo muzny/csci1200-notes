{
 "cells": [
  {
   "cell_type": "markdown",
   "metadata": {},
   "source": [
    "Mutable types (e.g. lists) and Scope\n",
    "============================\n",
    "\n",
    "At the end of [section 7.3](03_strings_lists_mutating.ipynb), we mentioned that scope becomes even more complicated with lists. This is because lists, unlike the other types we've worked with, are __mutable__.\n",
    "\n",
    "\n",
    "| type    | mutable? | example values                                                                                |\n",
    "|---------|------------|-----------------------------------------------------------------------------------------------|\n",
    "| int | no!        | -10, -7, -4, 0, 2, 13, 1117, 98372                                                            |\n",
    "| float   | no!      | -5.3, -4.0, -0.756, 0.0, 1.25, 12386.2                                                        |\n",
    "| string  | no!        | \"hello\", \"csci1200\", \"sentences are strings\", \"3.0\", \"remember to start your homework early!\" |\n",
    "| boolean | no!       | True, False                                                                     |\n",
    "| list | __yes!__       | [1, 2], [\"cat\", \"dog\", \"bird\"], [False, True, False], [1, 0.2, \"friend\", False] |\n",
    "\n",
    "We say that types that are not mutable are __pass-by-value__. This means that when we pass them as parameters into functions, their value is copied and that value is given to the function. If the function modifies that value, we *do not* see that change from the original variable."
   ]
  },
  {
   "cell_type": "code",
   "execution_count": null,
   "metadata": {},
   "outputs": [],
   "source": [
    "# TODO: run me. This is an example of pass-by-value.\n",
    "# This is what we have learned so far. What we know and love!\n",
    "\n",
    "def add_one(x):\n",
    "    x = x + 1\n",
    "    print(\"x inside add_one: \" + str(x))\n",
    "    \n",
    "def main():\n",
    "    a = 7\n",
    "    print(\"a before add_one inside main: \" + str(a))\n",
    "    add_one(a)\n",
    "    print(\"a after add_one inside main: \" + str(a))  # note that you DO NOT see the changed value here!\n",
    "    print()\n",
    "    \n",
    "    x = 13\n",
    "    print(\"x before add_one inside main: \" + str(x))\n",
    "    add_one(x)\n",
    "    print(\"x after add_one inside main: \" + str(x))  # note that you DO NOT see the changed value here!\n",
    "    print()\n",
    "    \n",
    "if __name__ == \"__main__\":\n",
    "    main()"
   ]
  },
  {
   "cell_type": "markdown",
   "metadata": {},
   "source": [
    "In contrast, when types are mutable, they are __pass-by-reference__. This means that when we pass them as parameters into functions, we are not just passing their values, but we are lending the function the actual same list that we declared elsewhere. If we modify the list inside the function, we will see those changes outside of the function."
   ]
  },
  {
   "cell_type": "code",
   "execution_count": null,
   "metadata": {},
   "outputs": [],
   "source": [
    "# TODO: run me. This is an example of pass-by-reference.\n",
    "\n",
    "def add_one_list(my_list):\n",
    "    my_list[0] += 1\n",
    "    print(\"my_list inside add_one_list: \" + str(my_list))\n",
    "    \n",
    "def main():\n",
    "    a = [7]\n",
    "    print(\"a before add_one_list inside main: \" + str(a))\n",
    "    add_one_list(a)\n",
    "    print(\"a after add_one_list inside main: \" + str(a)) # note that you see the changed value here!\n",
    "    print()\n",
    "    \n",
    "    my_list = [3, -7, 6]\n",
    "    print(\"my_list before add_one_list inside main: \" + str(my_list))\n",
    "    add_one_list(my_list)\n",
    "    print(\"my_list after add_one_list inside main: \" + str(my_list))  # note that you see the changed value here!\n",
    "    print()\n",
    "    \n",
    "if __name__ == \"__main__\":\n",
    "    main()"
   ]
  },
  {
   "cell_type": "markdown",
   "metadata": {},
   "source": [
    "This is why we care so much about mutator versus pure functions. We need to know where in our code we'll have access to the changed list values!\n",
    "\n",
    "In general, __it is considered better style__ to write pure functions when possible. Below is an example of our `add_one_list` function as a pure function."
   ]
  },
  {
   "cell_type": "code",
   "execution_count": null,
   "metadata": {},
   "outputs": [],
   "source": [
    "def add_one_list(my_list):\n",
    "    # first copy the list\n",
    "    copied = []\n",
    "    for element in my_list:\n",
    "        copied.append(element)\n",
    "    copied[0] += 1\n",
    "    print(\"my_list inside add_one_list: \" + str(my_list))\n",
    "    print(\"copied inside add_one_list: \" + str(copied))\n",
    "    return copied  # we need to return our new list if we want to be able to access it!\n",
    "\n",
    "def main():\n",
    "    a = [7]\n",
    "    print(\"a before add_one_list inside main: \" + str(a))\n",
    "    b = add_one_list(a)\n",
    "    print(\"a after add_one_list inside main: \" + str(a)) # note that you DO NOT see the changed value here!\n",
    "    print(\"b after add_one_list inside main: \" + str(b)) # note that you see the changed value here!\n",
    "    print()\n",
    "    \n",
    "    my_list = [3, -7, 6]\n",
    "    print(\"my_list before add_one_list inside main: \" + str(my_list))\n",
    "    my_list = add_one_list(my_list)  # overwrite our previous value in my_list with the return value from the function\n",
    "    print(\"my_list after add_one_list inside main: \" + str(my_list))  # note that you see the changed value here!\n",
    "    print()\n",
    "    \n",
    "if __name__ == \"__main__\":\n",
    "    main()"
   ]
  },
  {
   "cell_type": "code",
   "execution_count": null,
   "metadata": {},
   "outputs": [],
   "source": []
  }
 ],
 "metadata": {
  "kernelspec": {
   "display_name": "Python 3",
   "language": "python",
   "name": "python3"
  },
  "language_info": {
   "codemirror_mode": {
    "name": "ipython",
    "version": 3
   },
   "file_extension": ".py",
   "mimetype": "text/x-python",
   "name": "python",
   "nbconvert_exporter": "python",
   "pygments_lexer": "ipython3",
   "version": "3.6.1"
  }
 },
 "nbformat": 4,
 "nbformat_minor": 2
}

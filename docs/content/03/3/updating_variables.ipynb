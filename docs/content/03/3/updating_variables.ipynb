{
 "cells": [
  {
   "cell_type": "markdown",
   "metadata": {},
   "source": [
    "# Updating Variables' Values\n",
    "\n",
    "Since variables are how our programs remember information, it is extremely important that we are able to update their values.\n",
    "\n",
    "For example, we might have a variable `dogs` that represents how many dogs the user owns, we might set it to have an initial value of `0`. We then learn that the user has adopted a Great Dane, so we'll want to update that value to `1`.\n",
    "\n",
    "We can expand the syntax that we learned in the previous section to understand that we can also use it to update the value of a variable.\n",
    "\n",
    "```python\n",
    "name = initial value or new value\n",
    "```\n",
    "\n",
    "The code from our example above might translate to:\n",
    "\n",
    "```python\n",
    "dogs = 0\n",
    "print(dogs)\n",
    "# user adopts a Great Dane\n",
    "dogs = 1\n",
    "print(dogs)\n",
    "```\n",
    "\n",
    "Whenever we use the `=` between a variable name on the left and a value on the right, the value stored in the variable gets updated to whatever the new value is.\n",
    "\n",
    "## Updating a variable's value based on its previous value\n",
    "\n",
    "One of the most powerful things about variables is that we can update them based on the value that they previously had.\n",
    "\n",
    "Taking our example with dogs from above, when the user adopts the Great Dane, we actually don't care how many dogs they previously owned. We only care that they now have one more than they previously had.\n",
    "\n",
    "To write this in code, we'll say \"the new value of `dogs` should be equal to the old value of `dogs` plus 1\".\n",
    "\n",
    "```python\n",
    "dogs = dogs + 1\n",
    "```\n",
    "\n",
    "When this code is executed, the right side is interpreted first (`dogs + 1`). What python does is it reads the variable name `dogs`, looks up the current value of that variable, then adds 1 to that value. After completing that task, python then updates the value of the `dogs` variable to whatever the new value is.\n",
    "\n",
    "Let's take a look at a complete example.\n",
    "\n",
    "\n",
    "```python\n",
    "dogs = 3\n",
    "print(dogs)  # prints out 3\n",
    "dogs = dogs + 1\n",
    "print(dogs)  # prints out 4\n",
    "```\n",
    "\n",
    "We can generalize this to a formula for updating variables as:\n",
    "\n",
    "```python\n",
    "variable = variable operator value\n",
    "# such as\n",
    "variable = variable + value\n",
    "variable = variable - value\n",
    "variable = variable * value\n",
    "# etc\n",
    "```\n",
    "\n",
    "One more quick note: it's standard practice to write the right side like `variable operator value`, but you can definitely also write `value operator variable`, like:\n",
    "\n",
    "```python\n",
    "variable = value + variable\n",
    "# minus in particular will give you a different calculation!\n",
    "variable = value - variable  \n",
    "# etc\n",
    "```\n",
    "\n",
    "What do you think will be printed out when you run the code snippets below?"
   ]
  },
  {
   "cell_type": "code",
   "execution_count": null,
   "metadata": {},
   "outputs": [],
   "source": [
    "rabbits = 2\n",
    "rabbits = rabbits * 4\n",
    "print(rabbits)"
   ]
  },
  {
   "cell_type": "code",
   "execution_count": null,
   "metadata": {},
   "outputs": [],
   "source": [
    "cats = 4\n",
    "mice = 20\n",
    "mice = mice - (cats * 2)  # each cat eats 2 mice!\n",
    "print(mice)"
   ]
  },
  {
   "cell_type": "markdown",
   "metadata": {},
   "source": [
    "## Using += syntax to update a variable's value\n",
    "\n",
    "Updating the value of a variable is extremely common when we're writing programs. It's so common, in fact, that python has a shortcut for writing lines of code like `dogs = dogs + 1`. Instead of writing a `=` sign, we'll use `+=`. This is shorthand for saying \"add the previous value of the variable (`dogs`) to the given value (`1`), then update that variable(`dogs`)'s value\".\n",
    "\n",
    "Let's take a look at some examples:\n",
    "```python\n",
    "dogs = 5\n",
    "dogs = dogs + 1\n",
    "print(dogs) # prints 6\n",
    "\n",
    "# equivalent code using +=\n",
    "dogs = 5\n",
    "dogs += 1\n",
    "print(dogs) # prints 6\n",
    "```\n",
    "\n",
    "__Important__: `+=` is not the same as the `=` sign! To use `+=`, your variable must already exist (what would happen if it didn't already exist?). Take a look at some of the examples below.\n"
   ]
  },
  {
   "cell_type": "code",
   "execution_count": null,
   "metadata": {},
   "outputs": [],
   "source": [
    "# TODO: run this code! What happens?\n",
    "# if there is an error, figure out a way to fix that error\n",
    "x = 1\n",
    "print(x)"
   ]
  },
  {
   "cell_type": "code",
   "execution_count": null,
   "metadata": {},
   "outputs": [],
   "source": [
    "# TODO: run this code! What happens?\n",
    "# if there is an error, figure out a way to fix that error\n",
    "y += 2\n",
    "print(y)"
   ]
  },
  {
   "cell_type": "markdown",
   "metadata": {},
   "source": [
    "In python, we can generalize the `+=` syntax to \"operator equals\". This means that we can also use the following syntax:\n",
    "- `-=`: `x -= 2` translates to `x = x - 2`\n",
    "- `*=`: `y *= 4` translates to `y = y * 4`\n",
    "- `/=`: `z /= 1.5` translates to `z = z / 1.5`\n",
    "\n",
    "(You'll see `+=` far, far, *far* more frequently than the other ones.)\n",
    "\n",
    "Remember, your goal is to write understandable code, so if using the standard `variable = variable + value` syntax is easier for you to read, use that syntax! There are no bonus points for typing less. "
   ]
  },
  {
   "cell_type": "code",
   "execution_count": null,
   "metadata": {},
   "outputs": [],
   "source": [
    "# Which of the following is -= equivalent to?\n",
    "# variable = variable - value\n",
    "# variable = value - variable\n",
    "\n",
    "# Do some of your own experiments to discover!"
   ]
  }
 ],
 "metadata": {
  "kernelspec": {
   "display_name": "Python 3",
   "language": "python",
   "name": "python3"
  },
  "language_info": {
   "codemirror_mode": {
    "name": "ipython",
    "version": 3
   },
   "file_extension": ".py",
   "mimetype": "text/x-python",
   "name": "python",
   "nbconvert_exporter": "python",
   "pygments_lexer": "ipython3",
   "version": "3.7.3"
  }
 },
 "nbformat": 4,
 "nbformat_minor": 2
}

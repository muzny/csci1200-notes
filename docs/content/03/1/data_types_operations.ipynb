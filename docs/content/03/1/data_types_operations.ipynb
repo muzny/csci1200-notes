{
 "cells": [
  {
   "cell_type": "markdown",
   "metadata": {},
   "source": [
    "Data Types\n",
    "==========\n",
    "\n",
    "In previous installments of these notes, we've alluded to something called \"data types\". All values in python have a _type_. Intuitively, the number 7 and the piece of text \"saber-toothed tiger\" are not the same type of value.\n",
    "\n",
    "There are 4 basic (or primitive) types in python:\n",
    "\n",
    "| type    | short name | example values                                                                                |\n",
    "|---------|------------|-----------------------------------------------------------------------------------------------|\n",
    "| integer | int        | -10, -7, -4, 0, 2, 13, 1117, 98372                                                            |\n",
    "| float   | float      | -5.3, -4.0, -0.756, 0.0, 1.25, 12386.2                                                        |\n",
    "| string  | str        | \"hello\", \"sentences are strings\",   \"3.0\", \"remember to start your homework early!\" |\n",
    "| boolean | bool       | True, False                                                                                   |\n",
    " \n",
    "There are some more types, but we can do a lot with just these 4 for now.\n",
    "\n",
    "It's important for us to know about and understand the different types because certain operations are only allowed between certain types (for instance, we can't divide a `string` by another `string`, what would that even mean?) and because the behavior and structure of our programs is going to depend in part on the types of our variables."
   ]
  },
  {
   "cell_type": "markdown",
   "metadata": {},
   "source": [
    "Integers\n",
    "----------\n",
    "\n",
    "Integers are all whole numbers. As soon as there is a decimal point, the number is no longer an `int`, it's a `float` instead.\n",
    "\n",
    "Note: Numbers that you might be used to writing with a comma (such as 1,000,000) are written as `1000000` in python. This is because python would try to interpret `1,000,000` as three separate numbers!\n",
    "\n",
    "Floats\n",
    "----------\n",
    "\n",
    "Floats are all numbers with a decimal point. Even `1.0` and `6.0` and `-7.0`!\n",
    "\n",
    "You may also hear floats referred to as \"doubles\". This is a second name that comes from the history of computers and programming languages. This is because floats and doubles represent two different ways to store high-precision (decimal) numbers behind the scenes. We don't have to worry about this because of advancements in computer architectures!\n",
    "\n",
    "Strings\n",
    "--------\n",
    "\n",
    "In programming, we call all sequences of characters (letters, but including the numbers and symbols like `\"1\"` and `\"@\"`) strings.\n",
    "\n",
    "Notice that there are *__always__* quotation marks around strings. It's important to know the difference because the int `3` acts very differently than the string `\"3\"`!\n",
    "\n",
    "In python, we can enclose strings in either single quotes `'like this'` or double quotes `\"like this\"`.\n",
    "\n",
    "See the [section on Strings](../4/strings.html) for lots more information about how special they are!\n",
    "\n",
    "\n",
    "Boolean\n",
    "---------\n",
    "\n",
    "The name of these values comes from [George Boole](https://en.wikipedia.org/wiki/George_Boole) who developed Boolean algebra in _The Mathematical Analysis of Logic_ and _The Laws of Thought_ in the mid 1800s. It was named after Boole in the early 1900s.\n",
    "\n",
    "Boolean values are *__only__* the values `True` or `False`. We can use them to represent all sorts of useful things like whether or not to execute a particular block of code. (We'll talk a lot more about boolean values later when we talk about conditionals.)\n",
    "\n"
   ]
  },
  {
   "cell_type": "code",
   "execution_count": null,
   "metadata": {},
   "outputs": [],
   "source": [
    "# TODO: print a value of each type\n",
    "print(7)  # an example that prints an integer value\n"
   ]
  },
  {
   "cell_type": "markdown",
   "metadata": {},
   "source": [
    "Operations\n",
    "==========\n",
    "\n",
    "Operations are used to combine two different values to calculate a single new value. In python, we have a number of operators, some of which are used in algebra and other math courses, and some of which are not!\n",
    "\n",
    "\n",
    "|operator | name |\n",
    "|---|---|\n",
    "| + | plus |\n",
    "| - | minus |\n",
    "| * | times |\n",
    "| \\ | divide |\n",
    "| \\\\\\\\ | double divide or integer divide |\n",
    "| ** | power |\n",
    "| % | modulus |\n",
    "\n",
    "Let's play around!\n",
    "\n",
    "Some of these operators are ones you probably haven't seen before—go ahead and play around with them."
   ]
  },
  {
   "cell_type": "code",
   "execution_count": null,
   "metadata": {},
   "outputs": [],
   "source": [
    "# TODO: run this code.\n",
    "\n",
    "\n",
    "5 + 9\n",
    "\n",
    "# If you were to add another calculation below this one,\n",
    "# we would only see the results of the second calculation.\n",
    "\n",
    "# TODO: type a second calculation below this line and re-run the cell.\n",
    "\n"
   ]
  },
  {
   "cell_type": "markdown",
   "metadata": {},
   "source": [
    "We \"lose\" the first value that we calculated because we haven't saved the result anywhere. In the next section (variables), we'll learn how to save values so that we can use them again in the future."
   ]
  },
  {
   "cell_type": "code",
   "execution_count": null,
   "metadata": {},
   "outputs": [],
   "source": [
    "# TODO: What happens if you divide an integer (like 5) \n",
    "# by another integer (like 2) ?\n",
    "# Answer:\n"
   ]
  },
  {
   "cell_type": "code",
   "execution_count": null,
   "metadata": {},
   "outputs": [],
   "source": [
    "# TODO: What happens if you __double divide__ an integer (like 5) \n",
    "# by another integer (like 2) ?\n",
    "# Answer:\n"
   ]
  },
  {
   "cell_type": "code",
   "execution_count": null,
   "metadata": {},
   "outputs": [],
   "source": [
    "# TODO: Investigate the ** operator. Compare and contrast it with \n",
    "# the * operator. What does this operator do?\n",
    "# Answer:\n"
   ]
  },
  {
   "cell_type": "code",
   "execution_count": null,
   "metadata": {},
   "outputs": [],
   "source": [
    "# TODO: Investigate the % operator. Compare and contrast it with \n",
    "# the // operator. What does this operator do?\n",
    "# Answer:\n"
   ]
  }
 ],
 "metadata": {
  "kernelspec": {
   "display_name": "Python 3",
   "language": "python",
   "name": "python3"
  },
  "language_info": {
   "codemirror_mode": {
    "name": "ipython",
    "version": 3
   },
   "file_extension": ".py",
   "mimetype": "text/x-python",
   "name": "python",
   "nbconvert_exporter": "python",
   "pygments_lexer": "ipython3",
   "version": "3.6.1"
  }
 },
 "nbformat": 4,
 "nbformat_minor": 2
}

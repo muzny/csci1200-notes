{
 "cells": [
  {
   "cell_type": "markdown",
   "metadata": {},
   "source": [
    "Writing Functions\n",
    "==========\n",
    "\n",
    "Let's write and call our own functions. We'll start with functions that do not have parameters and do not have return values. See the next section of notes for information on writing functions that include parameters.\n",
    "\n",
    "The basic format is:\n",
    "```python\n",
    "def function_name():\n",
    "    # write your code here\n",
    "    # notice that it is indented\n",
    "    # everything indented at this level\n",
    "    # is inside this function\n",
    "```\n",
    "\n",
    "Python will give us an error if we try to define a function that is only comments and no code though, so let's define a function with a `print()` statement in it.\n",
    "\n"
   ]
  },
  {
   "cell_type": "code",
   "execution_count": null,
   "metadata": {},
   "outputs": [],
   "source": [
    "# TODO: run this code! \n",
    "def dog():\n",
    "    print(\"labradoodle\")"
   ]
  },
  {
   "cell_type": "code",
   "execution_count": null,
   "metadata": {},
   "outputs": [],
   "source": [
    "# After you've run the code above, you'll have the dog() function\n",
    "# definition loaded up, now we can call this function\n",
    "# Calling a function that you have written is the same as calling a built\n",
    "# in function—the difference is that you can play with the implementation\n",
    "\n",
    "# TODO: run this code!\n",
    "\n",
    "dog() # no return value, no parameters, so just function_name()"
   ]
  },
  {
   "cell_type": "code",
   "execution_count": null,
   "metadata": {},
   "outputs": [],
   "source": [
    "# TODO: define a function called cat and run it"
   ]
  },
  {
   "cell_type": "markdown",
   "metadata": {},
   "source": [
    "Now, the real utility of functions comes when we put multiple lines or complex code in them, then call them many times so that we don't have to re-write all that code over and over again!"
   ]
  },
  {
   "cell_type": "code",
   "execution_count": null,
   "metadata": {},
   "outputs": [],
   "source": [
    "# TODO: run this code\n",
    "def analyze_name():\n",
    "    name = input(\"What is your name? \")\n",
    "    name_len = len(name)\n",
    "    print(\"Your name is \" + str(name_len) + \" characters long!\")"
   ]
  },
  {
   "cell_type": "code",
   "execution_count": null,
   "metadata": {},
   "outputs": [],
   "source": [
    "# TODO: call the analyze_name function many times in a row, \n",
    "# then run your code"
   ]
  },
  {
   "cell_type": "code",
   "execution_count": null,
   "metadata": {},
   "outputs": [],
   "source": []
  }
 ],
 "metadata": {
  "kernelspec": {
   "display_name": "Python 3",
   "language": "python",
   "name": "python3"
  },
  "language_info": {
   "codemirror_mode": {
    "name": "ipython",
    "version": 3
   },
   "file_extension": ".py",
   "mimetype": "text/x-python",
   "name": "python",
   "nbconvert_exporter": "python",
   "pygments_lexer": "ipython3",
   "version": "3.6.1"
  }
 },
 "nbformat": 4,
 "nbformat_minor": 2
}

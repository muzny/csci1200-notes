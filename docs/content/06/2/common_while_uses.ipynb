{
 "cells": [
  {
   "cell_type": "markdown",
   "metadata": {},
   "source": [
    "Common `while` Loop Patterns\n",
    "========================\n",
    "\n",
    "Let's take a closer look at some common uses of a while loop. Say that you'd like to continue doing a task until some event happens. For instance, you might want to continue buying stocks until you are out of money or you might want to prompt the user for a password until they enter the correct one."
   ]
  },
  {
   "cell_type": "markdown",
   "metadata": {},
   "source": [
    "\"Until x happens\" \n",
    "-------------------\n",
    "\n",
    "We want to test for the opposite of our stop condition in the logical expression because the while loop will continue until that condition is false.\n",
    "\n",
    "So instead of saying \"I want to buy stocks until I have no more money\", we can phrase it as \"I want to buy stocks __while__ I still have money\", which would translate into a logical expression like `money > 0`."
   ]
  },
  {
   "cell_type": "code",
   "execution_count": null,
   "metadata": {},
   "outputs": [],
   "source": [
    "money = 100 # I start with 100 dollars\n",
    "while money > 0:\n",
    "    # buy a stock\n",
    "    money = money - 4 # let's pretend all stocks cost 4 dollars\n",
    "    \n",
    "print(\"done\")"
   ]
  },
  {
   "cell_type": "markdown",
   "metadata": {},
   "source": [
    "But what if I want to know *how many* stocks I have bought? We'll want to keep track of this in a separate, counter variable."
   ]
  },
  {
   "cell_type": "code",
   "execution_count": null,
   "metadata": {},
   "outputs": [],
   "source": [
    "money = 100 # I start with 100 dollars\n",
    "stocks = 0 # I start with 0 stocks\n",
    "while money > 0:\n",
    "    # buy a stock\n",
    "    money = money - 4 # let's pretend all stocks cost 4 dollars\n",
    "    stocks += 1 # I bought one stock!\n",
    "    \n",
    "print(\"I have: \" + str(stocks) + \" stocks!\")"
   ]
  },
  {
   "cell_type": "markdown",
   "metadata": {},
   "source": [
    "Especially when we start talking about stocks with variable price, we wouldn't just be able to do math to figure out how many stocks we bought!"
   ]
  },
  {
   "cell_type": "markdown",
   "metadata": {},
   "source": [
    "Validating Input\n",
    "-----------------\n",
    "\n",
    "Say we want to guarantee that the user has given us input that is lower case. We can't control a user's behavior, so we'll want to use a while loop to prompt them until they give us input that fits what we want.\n",
    "\n",
    "Again, we want to rephrase our problem as \"prompt the user while they continue to give us bad input\". We'll use the string `islower()` function to help us out here."
   ]
  },
  {
   "cell_type": "code",
   "execution_count": null,
   "metadata": {},
   "outputs": [],
   "source": [
    "# TODO: run this, what happens?\n",
    "while not answer.islower():\n",
    "    answer = input(\"Lower case text? \")\n",
    "print(answer)"
   ]
  },
  {
   "cell_type": "markdown",
   "metadata": {},
   "source": [
    "We can often run into bugs where the variable that we want to test won't be initialized until the first iteration of the while loop happens, but we __nevertheless want to test it in our logical expression__. In this case, we'll give our variable (e.g. `answer`) an initial or \"dummy\" value. This can be any value that makes it so that the loop will definitely run at least once."
   ]
  },
  {
   "cell_type": "code",
   "execution_count": null,
   "metadata": {},
   "outputs": [],
   "source": [
    "# TODO: run this, what happens?\n",
    "answer = \"NOT LOWER\"\n",
    "while not answer.islower():\n",
    "    answer = input(\"Lower case text? \")\n",
    "print(answer)"
   ]
  },
  {
   "cell_type": "markdown",
   "metadata": {},
   "source": [
    "Iteration over a string\n",
    "---------------\n",
    "\n",
    "This happens when we would like to perform a certain task for every element (letter/character) of a string. The key insight here is that the number of times we want to iterate is the same as the number of characters in the string.\n",
    "\n",
    "Since we can access the number of characters in a string with the `len` function, this pattern becomes:\n",
    "\n",
    "```python\n",
    "s = \"here's a string!\"\n",
    "index = 0 # start at index 0/the first letter in the string\n",
    "while index < len(s):\n",
    "    print(s[index])\n",
    "    index += 1  # each iteration will advance forward by one letter\n",
    "```"
   ]
  },
  {
   "cell_type": "code",
   "execution_count": null,
   "metadata": {},
   "outputs": [],
   "source": []
  }
 ],
 "metadata": {
  "kernelspec": {
   "display_name": "Python 3",
   "language": "python",
   "name": "python3"
  },
  "language_info": {
   "codemirror_mode": {
    "name": "ipython",
    "version": 3
   },
   "file_extension": ".py",
   "mimetype": "text/x-python",
   "name": "python",
   "nbconvert_exporter": "python",
   "pygments_lexer": "ipython3",
   "version": "3.6.1"
  }
 },
 "nbformat": 4,
 "nbformat_minor": 2
}

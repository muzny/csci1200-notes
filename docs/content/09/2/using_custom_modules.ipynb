{
 "cells": [
  {
   "cell_type": "markdown",
   "metadata": {},
   "source": [
    "Using Custom Modules\n",
    "=================\n",
    "\n",
    "Sometimes, we might want to use a module that python doesn't come with by default. We'll call these modules \"custom modules\".\n",
    "\n",
    "When we talk about using custom modules, it's important to understand that a module is really just a nicely encapsulated collection of functions.\n",
    "\n",
    "Let's say, for example, that the instructor of your class wanted to provide you with some pre-written functions to use in your homework. Rather than telling you to copy + paste the functions into your program, they would like to provide them as a module so that you can use the functions in your program, but not modify their contents.\n",
    "\n",
    "To do this, your instructor will provide you with code [as a .py file](../../02/5/file_types.html), for example `secrets.py`.\n",
    "\n",
    "The contents of `secrets.py` may look something like the following:\n",
    "\n",
    "```\n",
    "\n",
    "def hello(name):\n",
    "    print(\"Hello \" + name)\n",
    "    print(\"This greeting came from the hw1 module!\")\n",
    "    \n",
    "def goodbye():\n",
    "    print(\"Goodbye from the hw1 module)\n",
    "    \n",
    "```\n",
    "\n",
    "Now, the question becomes, how does one go about actually *using* the code your instructor provided as a module?"
   ]
  },
  {
   "cell_type": "markdown",
   "metadata": {},
   "source": [
    "Step 1: Ensure that the module is in the proper location\n",
    "------------------\n",
    "\n",
    "To access a module that has been provided as a `.py` file, the `.py` file needs to be __in the same folder as your program__.\n",
    "\n",
    "For example, you may be working in your `homework2/` folder, which is located in your `computer_science` folder:\n",
    "\n",
    "```\n",
    "computer_science/\n",
    "    homework1/\n",
    "        homework1.ipynb\n",
    "    homework2/\n",
    "        homework2.ipynb\n",
    "```\n",
    "\n",
    "To use the module that your instructor has provided in `homework2.ipynb`, it should be placed in your `homework2` folder:\n",
    "\n",
    "\n",
    "```\n",
    "computer_science/\n",
    "    homework1/\n",
    "        homework1.ipynb\n",
    "    homework2/\n",
    "        homework2.ipynb\n",
    "        secrets.py\n",
    "```"
   ]
  },
  {
   "cell_type": "markdown",
   "metadata": {},
   "source": [
    "Step 2: Import the module\n",
    "------------------\n",
    "\n",
    "Now that the files are in the appropriate locations, we can use the functions in the module after we import the module in our code.\n",
    "\n",
    "```\n",
    "import secrets\n",
    "\n",
    "secrets.hello(\"Spock\")\n",
    "secrets.goodbye()\n",
    "```"
   ]
  },
  {
   "cell_type": "code",
   "execution_count": null,
   "metadata": {},
   "outputs": [],
   "source": []
  }
 ],
 "metadata": {
  "kernelspec": {
   "display_name": "Python 3",
   "language": "python",
   "name": "python3"
  },
  "language_info": {
   "codemirror_mode": {
    "name": "ipython",
    "version": 3
   },
   "file_extension": ".py",
   "mimetype": "text/x-python",
   "name": "python",
   "nbconvert_exporter": "python",
   "pygments_lexer": "ipython3",
   "version": "3.6.1"
  }
 },
 "nbformat": 4,
 "nbformat_minor": 2
}

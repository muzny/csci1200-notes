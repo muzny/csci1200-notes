{
 "cells": [
  {
   "cell_type": "markdown",
   "metadata": {},
   "source": [
    "The `main` function\n",
    "==============\n",
    "\n",
    "When any program is executed, the kernel needs to know where to start running code. Since python is a scripting language, the programs that we write are executed from top to bottom.\n",
    "\n",
    "When we start writing more complex programs, it is best to keep our code well-organized by having all code inside of functions. However, if all our code is inside of functions, this begs the question of where should we put the code that actually calls our functions?\n",
    "\n",
    "By convention, we do this by writing a special function called `main()` that takes no parameters and has no return value. Once we've defined `main()`, we just need to call that function to run our program.\n",
    "\n",
    "Here is an example using the first program that we wrote:\n",
    "\n",
    "```python\n",
    "def main():\n",
    "    # code to run our program goes here\n",
    "    print(\"This is a program.\")\n",
    "    print(\"It has three print statements.\")\n",
    "    print(\"They are executed from top to bottom.\")\n",
    "    \n",
    "main()  # call our main function to run the program\n",
    "```\n",
    "\n",
    "Here is a more complex example where we are calling functions that we have defined ourselves:\n",
    "\n",
    "```python\n",
    "\n",
    "# this is code from section 4.4\n",
    "def analyze_name():\n",
    "    name = input(\"What is your name? \")\n",
    "    name_len = len(name)\n",
    "    print(\"Your name is \" + str(name_len) + \" characters long!\")\n",
    "\n",
    "\n",
    "def main():\n",
    "    # code to run our program goes here\n",
    "    print(\"Welcome to our name analyzer!\")\n",
    "    print(\"We will analyze two names!\")\n",
    "    analyze_name()\n",
    "    analyze_name()\n",
    "    \n",
    "main()  # call our main function to run the program\n",
    "```\n",
    "\n",
    "\n",
    "Your `main` function should be a concise summary of what your program does, similarly to a table of contents in a book. Having a `main` function also adds nice structure to our program--it tells future programmers (and our TAs) where to look to see what's happening when our program runs.\n",
    "\n",
    "We care about writing well-structured code and you should too!\n",
    "\n",
    "*__From Homework 3 onwards, you will be required to have a `main` function__*\n",
    "\n",
    "Let's look at some more examples of well-structured programs that use a `main` function:"
   ]
  },
  {
   "cell_type": "code",
   "execution_count": null,
   "metadata": {},
   "outputs": [],
   "source": [
    "# Example 1\n",
    "\n",
    "def subtract(x, y):\n",
    "    s = x - y\n",
    "    print(str(x) + \" - \" + str(y) + \" = \" + str(s))\n",
    "\n",
    "def main():\n",
    "    print(\"This program does some subtraction experiments\")\n",
    "    a = 10\n",
    "    b = 7\n",
    "    subtract(a, b)\n",
    "\n",
    "# if we forget the following statement, our main function\n",
    "# will never get called! :(\n",
    "main()"
   ]
  },
  {
   "cell_type": "code",
   "execution_count": null,
   "metadata": {},
   "outputs": [],
   "source": [
    "# Example 2\n",
    "def subtract(x, y):\n",
    "    s = x - y\n",
    "    print(str(x) + \" - \" + str(y) + \" = \" + str(s))\n",
    "\n",
    "def main():\n",
    "    print(\"This program does some subtraction experiments\")\n",
    "    a = 10\n",
    "    b = 7\n",
    "    subtract(a, b)\n",
    "    n1 = int(input(\"Please type an int: \"))\n",
    "    n2 = int(input(\"Please type an int: \"))\n",
    "    subtract(n1, n2)\n",
    "\n",
    "\n",
    "main()"
   ]
  },
  {
   "cell_type": "code",
   "execution_count": null,
   "metadata": {},
   "outputs": [],
   "source": [
    "# Example 3\n",
    "def subtract_user():\n",
    "    x = int(input(\"Please type an int: \"))\n",
    "    y = int(input(\"Please type an int: \"))\n",
    "    s = x - y\n",
    "    print(str(x) + \" - \" + str(y) + \" = \" + str(s))\n",
    "\n",
    "def main():\n",
    "    print(\"This program does subtraction four times\")\n",
    "    subtract_user()\n",
    "    subtract_user()\n",
    "    subtract_user()\n",
    "    subtract_user()\n",
    "\n",
    "main()"
   ]
  },
  {
   "cell_type": "markdown",
   "metadata": {},
   "source": [
    "Notice that our calls to `main()` happen at the end of the program. This is because we need all of our function definitions to be read into the python kernel before we call main!"
   ]
  },
  {
   "cell_type": "markdown",
   "metadata": {},
   "source": [
    "`main` and `if __name__ == \"__main__\"`:\n",
    "------------------\n",
    "\n",
    "You may encounter code that looks similar to the following:\n",
    "\n",
    "```python\n",
    "def main():\n",
    "    # code to run our program goes here\n",
    "    \n",
    "# two underscores precede and succeed \"name\" and \"main\"\n",
    "if __name__ == \"__main__\":\n",
    "    main()\n",
    "```\n",
    "\n",
    "Read more about this topic in the [section on modules](../../09/modules.html)."
   ]
  },
  {
   "cell_type": "code",
   "execution_count": null,
   "metadata": {},
   "outputs": [],
   "source": []
  }
 ],
 "metadata": {
  "kernelspec": {
   "display_name": "Python 3",
   "language": "python",
   "name": "python3"
  },
  "language_info": {
   "codemirror_mode": {
    "name": "ipython",
    "version": 3
   },
   "file_extension": ".py",
   "mimetype": "text/x-python",
   "name": "python",
   "nbconvert_exporter": "python",
   "pygments_lexer": "ipython3",
   "version": "3.6.1"
  }
 },
 "nbformat": 4,
 "nbformat_minor": 2
}

{
 "cells": [
  {
   "cell_type": "markdown",
   "metadata": {},
   "source": [
    "Strings\n",
    "=======\n",
    "\n",
    "Python strings are  what we call __objects__, meaning that they have both state *and* behavior. In contrast, data types like `int`, `float`, and `bool` only have a single value.\n",
    "\n",
    "When we say that strings have state and behavior, we are referring to two important properties of strings:\n",
    "1. state--strings are a certain sequence of characters in a certain order. We can think of this as the value of the string.\n",
    "2. behavior--strings can do things, like tell us whether or not they are uppercase or count the number of times a certain character occurs in them.\n",
    "\n",
    "\n",
    "In this section, we'll look at how to put special characters in strings and accessing specific characters in a string (for instance, the 3rd character). These are all topics associated with the state of a string.\n",
    "\n",
    "To learn more about string behavior, see the [section on using string functions](../../04/2/using_functions.html#string-functions)."
   ]
  },
  {
   "cell_type": "markdown",
   "metadata": {},
   "source": [
    "Escaping Characters in Strings\n",
    "-----------\n",
    "\n",
    "Also known as: including special characters in strings.\n",
    "\n",
    "Some characters won't work for us to just type into a string. For instance, what if our string includes quotation marks? What if our string spans multiple lines? What if our string needs to include a tab character?\n",
    "\n",
    "To put these characters into strings, we will need to __escape__ them. This means that we will write them in a special format so that python knows what we want in the string while still being able to type it as a regular string. Our escape character is the backslash `\\`. We will type the backslash before the character that we'd like to escape. For instance, to print `\"`, we'll type `\"\\\"\"`.\n",
    "\n",
    "Say we'd like to print the string: `they said \"hello\"`."
   ]
  },
  {
   "cell_type": "code",
   "execution_count": null,
   "metadata": {},
   "outputs": [],
   "source": [
    "# one strategy is to use single quotes around the string\n",
    "print('they said \"hello\"')  "
   ]
  },
  {
   "cell_type": "code",
   "execution_count": null,
   "metadata": {},
   "outputs": [],
   "source": [
    "# the other strategy is to _escape_ the quotes using a backslash\n",
    "print(\"they said \\\"hello\\\"\") "
   ]
  },
  {
   "cell_type": "markdown",
   "metadata": {},
   "source": [
    "Our most important characters that we'll need to escape are:\n",
    "- `\\\"`: a double quote\n",
    "- `\\'`: a single quote\n",
    "- `\\n`: a newline \n",
    "- `\\t`: a tab\n",
    "\n",
    "Challenge: how do you think that you could print a backslash itself?\n",
    "\n",
    "Take a look at the following print statements and consider what you think they'll print, then run the code."
   ]
  },
  {
   "cell_type": "code",
   "execution_count": null,
   "metadata": {},
   "outputs": [],
   "source": [
    "print(\"they didn't say \\\"goodbye\\\"\")"
   ]
  },
  {
   "cell_type": "code",
   "execution_count": null,
   "metadata": {},
   "outputs": [],
   "source": [
    "print('they didn\\'t say \"goodbye\"')"
   ]
  },
  {
   "cell_type": "code",
   "execution_count": null,
   "metadata": {},
   "outputs": [],
   "source": [
    "print(\"super\\ncali\\nfragilistic\\n\\nexpialidocious\")"
   ]
  },
  {
   "cell_type": "code",
   "execution_count": null,
   "metadata": {},
   "outputs": [],
   "source": [
    "print(\"super\\tcali\\tfragilistic\\n\\texpialidocious\")"
   ]
  },
  {
   "cell_type": "markdown",
   "metadata": {},
   "source": [
    "String Indexing\n",
    "-----------------\n",
    "\n",
    "String indexing is how we talk about accessing a specific character in a string. Since strings are made of a sequence of characters in a specific order, we'd like to be able to access the 1st, 2nd, 3rd, etc character of the string.\n",
    "\n",
    "Let's take a look at the following string:\n",
    "\n",
    "\n",
    "| - |-  | - | - | - | - |-  |-  | \n",
    "| --- | ---| --- | --- | --- | --- | --- | --- |\n",
    "| d | i| n | o | s | a | u | r |\n",
    "\n",
    "\n",
    "\n",
    "Strings are a good example of something that is very common in computer science, which is that they are __0-indexed__, meaning that each character has an index (where it occurs in the string) and that the indices start at the number zero.\n",
    "\n",
    "|0 | 1| 2 | 3| 4 | 5 | 6 | 7 |\n",
    "| --- | ---| --- | --- | --- | --- | --- | --- |\n",
    "| d | i| n | o | s | a | u | r |\n",
    "\n",
    "This string has 8 characters that go from index 0 to index 7.\n",
    "\n",
    "To access a character at a given index, we use the syntax `string_variable[index_number]`.\n",
    "\n",
    "Take a look at the following code:"
   ]
  },
  {
   "cell_type": "code",
   "execution_count": null,
   "metadata": {},
   "outputs": [],
   "source": [
    "# TODO: run this code.\n",
    "# Play around with the integer value between the square brackets\n",
    "\n",
    "s = \"dinosaur\"\n",
    "print(s[0])"
   ]
  },
  {
   "cell_type": "code",
   "execution_count": null,
   "metadata": {},
   "outputs": [],
   "source": [
    "# TODO: run this code.\n",
    "# What happens if we give an index value for an index that doesn't\n",
    "# exist in the string?\n",
    "# Answer:\n",
    "\n",
    "s = \"dinosaur\"\n",
    "print(s[8])"
   ]
  },
  {
   "cell_type": "code",
   "execution_count": null,
   "metadata": {},
   "outputs": [],
   "source": []
  }
 ],
 "metadata": {
  "kernelspec": {
   "display_name": "Python 3",
   "language": "python",
   "name": "python3"
  },
  "language_info": {
   "codemirror_mode": {
    "name": "ipython",
    "version": 3
   },
   "file_extension": ".py",
   "mimetype": "text/x-python",
   "name": "python",
   "nbconvert_exporter": "python",
   "pygments_lexer": "ipython3",
   "version": "3.6.1"
  }
 },
 "nbformat": 4,
 "nbformat_minor": 2
}

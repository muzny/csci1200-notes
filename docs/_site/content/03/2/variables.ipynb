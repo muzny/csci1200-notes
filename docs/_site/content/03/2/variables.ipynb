{
 "cells": [
  {
   "cell_type": "markdown",
   "metadata": {},
   "source": [
    "# Variables and Variable Declarations\n",
    "\n",
    "Variables are how our programs are going to remember information. Our variables have two parts: __names__ and __values__. When we create a variable we set its name and assign it an initial value.\n",
    "\n",
    "```python\n",
    "name = value\n",
    "```\n",
    "\n",
    "The name *__always__* goes on the left of the equals sign and the value *__always__* goes on the right of the equals sign. If you switch these you will get an error!\n",
    "\n",
    "For example, if I want a variable called `age` to have the value `91`, I would write:\n",
    "\n",
    "```python\n",
    "age = 91\n",
    "```\n",
    "\n",
    "We can use any name for our variables as long as they begin with a letter. Ideally, we want names that are descriptive of the values that the variables hold. \n",
    "\n",
    "```python\n",
    "my_var = 1\n",
    "a = 2\n",
    "\n",
    "# notice that we separate words with \n",
    "# underscores to improve readability!\n",
    "flying_purple_people_eater = 3 \n",
    "\n",
    "secrets = 42\n",
    "```\n",
    "\n",
    "Once we've declared a variable, we can then use its value later in our program. For instance, if I want to print out the value of a variable, I need to pass the variable as the argument of the print function:\n",
    "\n",
    "```python\n",
    "print(variable)\n",
    "```\n",
    "\n",
    "So for our example with the variable `age`, a completed example would have the code:\n",
    "\n",
    "```python\n",
    "age = 91 # declare the variable first\n",
    "print(age) # now I can print it out\n",
    "```"
   ]
  },
  {
   "cell_type": "code",
   "execution_count": null,
   "metadata": {},
   "outputs": [],
   "source": [
    "age = 91 # declare the variable first\n",
    "print(age) # now I can print it out\n",
    "\n",
    "# TODO: run this code. Does the print function print the name of the \n",
    "# variable or its value?\n",
    "# Answer: "
   ]
  },
  {
   "cell_type": "code",
   "execution_count": null,
   "metadata": {},
   "outputs": [],
   "source": [
    "a = 7\n",
    "# TODO: write a line of code that prints \n",
    "# the value of the variable a\n"
   ]
  },
  {
   "cell_type": "code",
   "execution_count": null,
   "metadata": {},
   "outputs": [],
   "source": [
    "# TODO: write a line of code that declares\n",
    "# a new variable and sets its value equal to 999"
   ]
  },
  {
   "cell_type": "markdown",
   "metadata": {},
   "source": [
    "We can also do math with variables!  \n",
    "\n",
    "Remember, we *__always__* have the variable name on the left and its value on the right. \n",
    "\n",
    "For instance:\n",
    "\n",
    "```python\n",
    "my_big_number = 100000 + 547362\n",
    "my_small_number = -799 - 47\n",
    "```\n",
    "\n",
    "If we want to use a variable in a calculation, that's also okay:\n",
    "\n",
    "```python\n",
    "first_num = 54\n",
    "second_num = first_num + 72\n",
    "print(second_num)\n",
    "```\n",
    "\n",
    "Remember: variables must always be declared before you use them! \n",
    "\n",
    "We'll explore what kinds of math operations we can use with variables when we talk about data types."
   ]
  },
  {
   "cell_type": "code",
   "execution_count": null,
   "metadata": {},
   "outputs": [],
   "source": [
    "x = 10\n",
    "y = -1\n",
    "# TODO: write the code that creates a new variable and sets its \n",
    "# value equal to the sum of x and y. Then, print out the value of \n",
    "# that variable. Can you print out the sum of x and y without saving \n",
    "# the value in a variable first?"
   ]
  }
 ],
 "metadata": {
  "kernelspec": {
   "display_name": "Python 3",
   "language": "python",
   "name": "python3"
  },
  "language_info": {
   "codemirror_mode": {
    "name": "ipython",
    "version": 3
   },
   "file_extension": ".py",
   "mimetype": "text/x-python",
   "name": "python",
   "nbconvert_exporter": "python",
   "pygments_lexer": "ipython3",
   "version": "3.7.3"
  }
 },
 "nbformat": 4,
 "nbformat_minor": 2
}

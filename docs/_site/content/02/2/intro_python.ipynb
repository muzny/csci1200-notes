{
 "cells": [
  {
   "cell_type": "markdown",
   "metadata": {},
   "source": [
    "# Introduction to Python\n",
    "\n",
    "Python is the programming language that we will be using. There are many different programming languages. Each language has its own *syntax* but all programming languages have the same goal--writing a program that the computer can translate into a series of operations to produce some output.\n",
    "\n",
    "Syntax refers to how specifically we will write our statements (the words and punctuation that we will use).\n",
    "\n",
    "Python programs are composed of a series of statements that are executed in order, from top to bottom.\n",
    "\n",
    "In this section, we'll go over the `print` function, __comments__, and we'll start looking at __order of execution__. \n",
    "\n",
    "Note: We're using Python 3, so if you have experience with Python 2.7, you will see a few things that are [different](https://sebastianraschka.com/Articles/2014_python_2_3_key_diff.html)."
   ]
  },
  {
   "cell_type": "markdown",
   "metadata": {},
   "source": [
    "## The `print` Function\n",
    "\n",
    "\n",
    "In the previous [chapter about getting started with jupyter notebooks](../../01/1/intro_jupyter_notebooks.html), you saw the `print` function in some of the examples. Let's break an example down:\n",
    "\n",
    "```python\n",
    "print(\"hello\")\n",
    "```\n",
    "\n",
    "In this example you can see that there are 3 different parts to the function (demonstrated by different colors and __bold__ text in these notes).\n",
    "\n",
    "1. `print` this is the part of the function that says _what we want to do_.\n",
    "2. `( ... )` the parentheses are indicating that this function takes an argument (see part 3).\n",
    "3. `\"hello\"` this is what we call _the argument_. This is what we want to apply the function `print` to.\n",
    "    1. Note: to print text, it's important that we put quotes around it here. We'll learn more about this in the [Data Types](../../03/1/data_types_operations.html) section of the notes.\n"
   ]
  },
  {
   "cell_type": "code",
   "execution_count": null,
   "metadata": {},
   "outputs": [],
   "source": [
    "# TODO: write a couple print statements here.\n",
    "\n",
    "\n",
    "\n",
    "# TODO: what order are your print statements executed \n",
    "# in when you run the code?\n",
    "# Answer:\n"
   ]
  },
  {
   "cell_type": "markdown",
   "metadata": {},
   "source": [
    "Notice that when you execute a series of `print` statements, the text from each subsequent statement is output on the next line. This is because the `print` function automatically adds a \"newline\" character to the end of your text. Newline characters are what are produced when you are writing a text document and press the \"return\" or \"enter\" key to write on the next line. "
   ]
  },
  {
   "cell_type": "markdown",
   "metadata": {},
   "source": [
    "Comments\n",
    "------\n",
    "In the examples that we've shown you so far, there are certain lines in our blocks of code that begin with a `#` character. These lines are called  comments. Comments are parts of programs that _are not executed by the kernel_ but serve the extremely important purpose of giving clarification to the _people_ who are reading your code.\n",
    "\n",
    "There are a few ways to create comments in python. The first way is with a `#` symbol. This makes it so that anything on the line __after__ the `#` is considered a comment.\n",
    "\n",
    "```python\n",
    "# this is a comment that is a whole line\n",
    "print(\"this is a print statement\")  # comment on a line with code\n",
    "```\n",
    "\n",
    "In the above example, the `print` statement would still be executed like normal. Luckily for us, our programming environment is going to help us out by color-coding our code to help us identify which parts of our code are actually going to be executed (non-comments) and which parts won't be (comments).\n",
    "\n",
    "The second way to create a comment is for multi-line comments. Multi-line comments begin and end with three apostrophes, `'''`. Multi-line comments are typically used for larger descriptions.\n",
    "\n",
    "```python\n",
    "''' This is a multi-line comment\n",
    "that can span as many lines \n",
    "as we want it to! '''\n",
    "```"
   ]
  }
 ],
 "metadata": {
  "kernelspec": {
   "display_name": "Python 3",
   "language": "python",
   "name": "python3"
  },
  "language_info": {
   "codemirror_mode": {
    "name": "ipython",
    "version": 3
   },
   "file_extension": ".py",
   "mimetype": "text/x-python",
   "name": "python",
   "nbconvert_exporter": "python",
   "pygments_lexer": "ipython3",
   "version": "3.6.1"
  }
 },
 "nbformat": 4,
 "nbformat_minor": 2
}

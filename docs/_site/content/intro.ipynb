{
 "cells": [
  {
   "cell_type": "markdown",
   "metadata": {},
   "source": [
    "# What are these notes?\n",
    "\n",
    "This set of notes is meant to supplement lecture and lab materials. They are not intended to be sufficient standalone material to master python or the other concepts covered in class.\n",
    "\n",
    "These notes are a great place to review concepts that we've been over in class and to play around with code. The examples that are given in these notes are great places to start if you are confused about a topic or would like to discuss how a specific example of code works."
   ]
  },
  {
   "cell_type": "markdown",
   "metadata": {},
   "source": [
    "# Working with these notes\n",
    "\n",
    "In these notes you'll see code in three different ways:  \n",
    "1. Non-interactive: embedded in text inline like `print(\"hello\")`.\n",
    "2. Non-interactive: embedded in it's own code block.\n",
    "```python\n",
    "print(\"ahoy\")\n",
    "```\n",
    "3. Interactive: in a editable, runnable block. (Notice that there is __both__ a \"interactive mode\" and a \"copy\" icon in the upper right of this block. This makes it easy for you to copy+paste this code into a Jupyter Notebook on your computer.)"
   ]
  },
  {
   "cell_type": "code",
   "execution_count": null,
   "metadata": {},
   "outputs": [],
   "source": [
    "# TODO: run this cell by clicking \"interactive mode\", \n",
    "# then clicking the \"run\" button\n",
    "print(\"greetings\")"
   ]
  },
  {
   "cell_type": "markdown",
   "metadata": {},
   "source": [
    "## Acknowledgements\n",
    "\n",
    "\n",
    "These notes have taken much inspiration from the interactive textbook How to Think Like a Computer Scientist by Brad MIller and David Ranum.\n",
    "\n",
    "These notes use the Jupyter Books package which was originally created by [Sam Lau][sam] and [Chris Holdgraf][chris]\n",
    "with support of the **UC Berkeley Data Science Education Program and the\n",
    "[Berkeley Institute for Data Science](https://bids.berkeley.edu/)**.\n",
    "\n",
    "[sam]: http://www.samlau.me/\n",
    "[chris]: https://predictablynoisy.com\n"
   ]
  },
  {
   "cell_type": "code",
   "execution_count": null,
   "metadata": {},
   "outputs": [],
   "source": []
  }
 ],
 "metadata": {
  "kernelspec": {
   "display_name": "Python 3",
   "language": "python",
   "name": "python3"
  },
  "language_info": {
   "codemirror_mode": {
    "name": "ipython",
    "version": 3
   },
   "file_extension": ".py",
   "mimetype": "text/x-python",
   "name": "python",
   "nbconvert_exporter": "python",
   "pygments_lexer": "ipython3",
   "version": "3.6.1"
  }
 },
 "nbformat": 4,
 "nbformat_minor": 2
}

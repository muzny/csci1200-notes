{
 "cells": [
  {
   "cell_type": "markdown",
   "metadata": {},
   "source": [
    "`if` statements / conditionals / selection statements\n",
    "===========\n",
    "\n",
    "An `if` statement is a control structure that we use to create branches in our code. This means that our code can do one thing under certain circumstances and another thing under different circumstances.\n",
    "\n",
    "__control structure__: a part of the language that allows us to dictate when and how (and how many times) certain pieces of code are run. We can consider functions to be one type of control structure. (Though they are so important that they just get to be called functions most of the time).\n",
    "\n",
    "Let's take a look at the syntax of an `if` statement:\n",
    "\n",
    "```python\n",
    "if logical_expression:\n",
    "    # do something\n",
    "```\n",
    "\n",
    "For instance, take a look at the code in the following cell."
   ]
  },
  {
   "cell_type": "code",
   "execution_count": null,
   "metadata": {},
   "outputs": [],
   "source": [
    "# TODO: run this code!\n",
    "# Under what circumstances is \"big number\" printed out?\n",
    "# Answer:\n",
    "\n",
    "number = int(input(\"number? \"))\n",
    "\n",
    "if number > 100:\n",
    "    print(\"big number\")\n",
    "    \n",
    "print(\"done\")"
   ]
  },
  {
   "cell_type": "markdown",
   "metadata": {},
   "source": [
    "`if` statements are like forks in the road for our code. If the logical expression evaluates to `True`, the code within the statement (indented) will be run, otherwise it won't be. When the code inside the statement finishes running, the program continues executing as normal from the end of the statement.\n",
    "\n",
    "![if statement as a flowchart](../../images/conditionals/if_chart.png)"
   ]
  },
  {
   "cell_type": "code",
   "execution_count": null,
   "metadata": {},
   "outputs": [],
   "source": [
    "# TODO: write your own if statement here!"
   ]
  }
 ],
 "metadata": {
  "kernelspec": {
   "display_name": "Python 3",
   "language": "python",
   "name": "python3"
  },
  "language_info": {
   "codemirror_mode": {
    "name": "ipython",
    "version": 3
   },
   "file_extension": ".py",
   "mimetype": "text/x-python",
   "name": "python",
   "nbconvert_exporter": "python",
   "pygments_lexer": "ipython3",
   "version": "3.6.1"
  }
 },
 "nbformat": 4,
 "nbformat_minor": 2
}

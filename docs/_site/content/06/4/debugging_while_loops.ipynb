{
 "cells": [
  {
   "cell_type": "markdown",
   "metadata": {},
   "source": [
    "Debugging `while` Loops\n",
    "==================\n",
    "\n",
    "Loops are so important and debugging them can be so tricky that we are going to cover a few common mistakes and debugging strategies specific to loops.\n",
    "\n",
    "As always, our [general strategies for debugging python code](../../02/4/debugging_python_code.html) still apply here."
   ]
  },
  {
   "cell_type": "markdown",
   "metadata": {},
   "source": [
    "Scenario 1: did not initialize our tracker variable\n",
    "------------------------------"
   ]
  },
  {
   "cell_type": "code",
   "execution_count": null,
   "metadata": {},
   "outputs": [],
   "source": [
    "# TODO: run this code!\n",
    "\n",
    "while x < 5:\n",
    "    print(x)\n",
    "    x += 1"
   ]
  },
  {
   "cell_type": "markdown",
   "metadata": {},
   "source": [
    "Running the above code will give you an error message similar to:\n",
    "\n",
    "```\n",
    "---------------------------------------------------------------------------\n",
    "NameError                                 Traceback (most recent call last)\n",
    "<ipython-input-1-e02499b1260a> in <module>()\n",
    "      1 # TODO: run this code!\n",
    "      2 \n",
    "----> 3 while x < 5:\n",
    "      4     print(x)\n",
    "      5     x += 1\n",
    "\n",
    "NameError: name 'x' is not defined\n",
    "\n",
    "```\n",
    "\n",
    "This message tells us that at line 3, `x` is not defined.\n",
    "\n",
    "__The fix__: add a line, such as `x = 0` before the start of the loop. \n",
    "\n",
    "```python\n",
    "x = 0\n",
    "while x < 5:\n",
    "    print(x)\n",
    "    x += 1\n",
    "```"
   ]
  },
  {
   "cell_type": "markdown",
   "metadata": {},
   "source": [
    "Scenario 2: while loop is not executing\n",
    "------------------------------"
   ]
  },
  {
   "cell_type": "code",
   "execution_count": null,
   "metadata": {},
   "outputs": [],
   "source": [
    "# TODO: run this code!\n",
    "x = 0\n",
    "while x > 5:\n",
    "    print(x)\n",
    "    x += 1"
   ]
  },
  {
   "cell_type": "markdown",
   "metadata": {},
   "source": [
    "Running this code will not give you an error, but it will also give you __no output__. The fact that there is no output indicates that your loop did not run, not even once. Notice that this code does finish executing, the loop just didn't run. This is a bit clearer if we add a `print` statement after the loop (a great step to take when debugging!)."
   ]
  },
  {
   "cell_type": "code",
   "execution_count": null,
   "metadata": {},
   "outputs": [],
   "source": [
    "# TODO: run this code!\n",
    "x = 0\n",
    "while x > 5:\n",
    "    print(x)\n",
    "    x += 1\n",
    "    \n",
    "# start debugging this code by printing the value of x after the loop\n",
    "print(x) "
   ]
  },
  {
   "cell_type": "markdown",
   "metadata": {},
   "source": [
    "__The fix__: this is most often due to either the initial value of the tracker variable or the logical expression being incorrect. What is happening here is that the very first time `x > 5` gets tested, it evaluates to `False` so the loop does not run at all.\n",
    "\n",
    "In this case, we would want to change the logical expression to `x < 5`. \n",
    "\n",
    "A question for you: what would happen if instead of changing the logical expression, we changed the initial value of `x` to a number 5 or greater as in the code snippet below?\n",
    "\n",
    "```python\n",
    "x = 5  # start at 5 instead of 0\n",
    "while x > 5:\n",
    "    print(x)\n",
    "    x += 1\n",
    "    \n",
    "# start debugging this code by printing the value of x after the loop\n",
    "print(x) \n",
    "```"
   ]
  },
  {
   "cell_type": "markdown",
   "metadata": {},
   "source": [
    "Scenario 3: infinite loop\n",
    "------------------------------\n",
    "\n",
    "This is the most common and, arguably, the most frustrating kind of error that occurs with `while` loops. Take a look at the following code:\n",
    "\n",
    "```python\n",
    "x = 0\n",
    "while x < 5:\n",
    "    print(x)\n",
    "    x -= 1\n",
    "```\n",
    "\n",
    "You can tell that you have an infinite loop if the kernel \"hangs\" (in jupyter notebooks, this is indicated by the `*` icon in the brackets to the left of the cell, as in `In [*]:`) or if it produces infinite output. These types of loops require you to manually stop the kernel.\n",
    "\n",
    "__The fix__: these errors are because either the __update__ step of your while loop is not happening as you wish (you may have forgotten it entirely) or the logical expression testing __are we done?__ isn't testing what you think that it's testing.\n",
    "\n",
    "Start debugging these scenarios by finding the code that updates the variable that you are testing in your logical expression:\n",
    "\n",
    "```python\n",
    "x = 0\n",
    "while x < 5:\n",
    "    print(x)\n",
    "    x -= 1  # This is the update since it changes the value of x\n",
    "```\n",
    "\n",
    "Now, our next questions are:\n",
    "1. is this update happening when we think that it should happen?\n",
    "2. will the logical expression ever evaluate to False?\n",
    "\n",
    "In this code, our update is happening on every iteration but `x < 5` will never be False because the value of `x` only gets smaller. As in the scenario above, how you fix this depends on what you want your code to do:\n",
    "\n",
    "```python\n",
    "x = 0\n",
    "while x > -5:  # fix by changing the logical expression\n",
    "    print(x)\n",
    "    x -= 1\n",
    "```\n",
    "\n",
    "or:\n",
    "\n",
    "```python\n",
    "x = 0\n",
    "while x < 5:  \n",
    "    print(x)\n",
    "    x += 1   # fix by changing the update\n",
    "```"
   ]
  },
  {
   "cell_type": "code",
   "execution_count": null,
   "metadata": {},
   "outputs": [],
   "source": []
  }
 ],
 "metadata": {
  "kernelspec": {
   "display_name": "Python 3",
   "language": "python",
   "name": "python3"
  },
  "language_info": {
   "codemirror_mode": {
    "name": "ipython",
    "version": 3
   },
   "file_extension": ".py",
   "mimetype": "text/x-python",
   "name": "python",
   "nbconvert_exporter": "python",
   "pygments_lexer": "ipython3",
   "version": "3.7.3"
  }
 },
 "nbformat": 4,
 "nbformat_minor": 2
}

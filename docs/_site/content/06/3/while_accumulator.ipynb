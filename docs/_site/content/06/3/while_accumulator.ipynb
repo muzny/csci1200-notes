{
 "cells": [
  {
   "cell_type": "markdown",
   "metadata": {},
   "source": [
    "The Accumulator Pattern\n",
    "==============\n",
    "\n",
    "When writing `while` loops, in addition to the patterns covered in section 6.2, there will be one more pattern that we will see over and over and over again.\n",
    "\n",
    "This is the \"accumulator\" pattern. This is the pattern that we will use whenever we want to build up a value across iterations of a loop. This is different than the \"tracker\" variable because the accumulated value (typically) doesn't control how many times the loop iterates. Rather, it *gathers information* as the loop iterates.\n",
    "\n",
    "Say, for example, that we want to know the sum of the numbers from 0 to 99."
   ]
  },
  {
   "cell_type": "code",
   "execution_count": null,
   "metadata": {},
   "outputs": [],
   "source": [
    "# TODO: run this cell. What happens?\n",
    "# Answer:\n",
    "\n",
    "num = 0 # 1) initialize \"tracker\"\n",
    "sum_nums = 0 \n",
    "while num < 100: # 2) done?\n",
    "    sum_nums = sum_nums + num\n",
    "    num = num + 1 # 3) update tracker\n",
    "    \n",
    "print(sum_nums) # then print it out at the end"
   ]
  },
  {
   "cell_type": "markdown",
   "metadata": {},
   "source": [
    "The accumulator pattern looks like:\n",
    "\n",
    "```python\n",
    "my_tracker = 0 # 1) initialize tracker\n",
    "count = 0  # A) declare your accumulator variable\n",
    "while logical expression involving tracker variable:  # 2) done?\n",
    "    count = count + 1  # B) update your accumulator variable\n",
    "    my_tracker = my_tracker + 1 # 3) update your tracker\n",
    "    \n",
    "print(count)  # 3) when the loop is done, your accumulated value will be stored\n",
    "```\n",
    "\n",
    "__Think of the accumulator pattern as what allows your program to remember values across iterations of a loop.__\n",
    "\n",
    "The accumulator pattern has 2 parts (A and B above) that are separate from the three steps (1, 2, 3 above) that we use to make a while loop execute."
   ]
  },
  {
   "cell_type": "code",
   "execution_count": null,
   "metadata": {},
   "outputs": [],
   "source": [
    "# TODO: run me\n",
    "# in this example, num controls/\"tracks\" the while loop\n",
    "# and count is counting the number of iterations\n",
    "\n",
    "num = 0\n",
    "count = 0  \n",
    "while num < 54:\n",
    "    count = count + 1\n",
    "    num = num + 1\n",
    "print(count)"
   ]
  },
  {
   "cell_type": "code",
   "execution_count": null,
   "metadata": {},
   "outputs": [],
   "source": [
    "# TODO: run me\n",
    "secret_number = 12556\n",
    "num = 0\n",
    "count = 0  # A) declare your accumulator variable\n",
    "while num < secret_number:\n",
    "    if num % 3 == 0:\n",
    "        count = count + 1  # B) update your accumulator variable\n",
    "    num = num + 1\n",
    "print(count)  # 3) when the loop is done, your accumulated value will be stored\n",
    "\n",
    "# What does this loop count?"
   ]
  },
  {
   "cell_type": "markdown",
   "metadata": {},
   "source": [
    "This is the pattern that you will use to create new strings with for loops, calculate factorials (n!), calculate numbers in the fibonacci sequence, and generally update values as iterations happen. "
   ]
  },
  {
   "cell_type": "markdown",
   "metadata": {},
   "source": [
    "Some non-working examples\n",
    "------------\n",
    "\n",
    "Let's examine why the following example doesn't work (even though they don't cause errors)."
   ]
  },
  {
   "cell_type": "code",
   "execution_count": null,
   "metadata": {},
   "outputs": [],
   "source": [
    "# Example 1\n",
    "num = 0\n",
    "while num < 54:\n",
    "    count = 1  # this resets count to 1 each time the loop iterates\n",
    "    count = count + 1\n",
    "    num = num + 1\n",
    "print(count)"
   ]
  },
  {
   "cell_type": "code",
   "execution_count": null,
   "metadata": {},
   "outputs": [],
   "source": [
    "# Example 2\n",
    "count = 0\n",
    "num = 0\n",
    "while num < 54:\n",
    "    count = 1  # this resets count to 1 each time the loop iterates (doesn't add)\n",
    "    num = num + 1\n",
    "print(count)"
   ]
  },
  {
   "cell_type": "code",
   "execution_count": null,
   "metadata": {},
   "outputs": [],
   "source": [
    "# Example 3\n",
    "count = 0\n",
    "num = 0\n",
    "while num < 54:\n",
    "    count = num # this sets count equal to the value of num on each iteration\n",
    "    num = num + 1\n",
    "print(count)"
   ]
  },
  {
   "cell_type": "code",
   "execution_count": null,
   "metadata": {},
   "outputs": [],
   "source": []
  }
 ],
 "metadata": {
  "kernelspec": {
   "display_name": "Python 3",
   "language": "python",
   "name": "python3"
  },
  "language_info": {
   "codemirror_mode": {
    "name": "ipython",
    "version": 3
   },
   "file_extension": ".py",
   "mimetype": "text/x-python",
   "name": "python",
   "nbconvert_exporter": "python",
   "pygments_lexer": "ipython3",
   "version": "3.7.3"
  }
 },
 "nbformat": 4,
 "nbformat_minor": 2
}

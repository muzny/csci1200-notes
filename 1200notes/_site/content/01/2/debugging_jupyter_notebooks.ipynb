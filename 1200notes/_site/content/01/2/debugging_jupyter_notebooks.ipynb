{
 "cells": [
  {
   "cell_type": "markdown",
   "metadata": {},
   "source": [
    "Debugging Jupyter Notebooks\n",
    "=============\n",
    "\n",
    "You might find that the code in one of your notebooks isn't quite running like you would expect it to. For python-specific errors and  debugging, see [the section on debugging python code](../../02/4/debugging_python_code.html).\n",
    "\n",
    "In this notebook we're going to explore some of the weird things that can happen because we are using Jupyter Notebooks. We're going to pay special attention to the cells and the order in which we run them.\n",
    "\n",
    "Remember from what we've learned about python that we must always declare a variable before we can use it.\n",
    "\n",
    "```python\n",
    "# Doesn't work! my_undeclared_variable hasn't been declared\n",
    "print(my_undeclared_variable)  \n",
    "\n",
    "\n",
    "# Does work!\n",
    "my_undeclared_variable = 5\n",
    "print(my_undeclared_variable)  \n",
    "```\n",
    "\n",
    "Now, let's take a similar example and look how it behaves in jupyter notebooks."
   ]
  },
  {
   "cell_type": "code",
   "execution_count": null,
   "metadata": {},
   "outputs": [],
   "source": [
    "# TODO: run this cell. What is the output?\n",
    "# Answer: \n",
    "\n",
    "my_var = 5\n",
    "print(my_var)"
   ]
  },
  {
   "cell_type": "code",
   "execution_count": null,
   "metadata": {},
   "outputs": [],
   "source": [
    "# TODO: run this cell. What is the output?\n",
    "# Answer: \n",
    "\n",
    "print(my_var)"
   ]
  },
  {
   "cell_type": "code",
   "execution_count": null,
   "metadata": {},
   "outputs": [],
   "source": [
    "# TODO: run this cell. What is the output?\n",
    "# Answer: \n",
    "\n",
    "print(my_second_var)"
   ]
  },
  {
   "cell_type": "markdown",
   "metadata": {},
   "source": [
    "What these examples show you is that when we are working with jupyter notebooks, variables *__persist across cells__*. If you run a cell that declares a variable, you can use that variable in subsequent cells! Neat!\n",
    "\n",
    "A Nice Little Debugging Tool: whos\n",
    "===========\n",
    "\n",
    "Jupyter notebooks come with a nice debugging tool that we'll explore more throughout the course called `whos`. Let's go ahead and try it out.\n"
   ]
  },
  {
   "cell_type": "code",
   "execution_count": null,
   "metadata": {},
   "outputs": [],
   "source": [
    "whos\n",
    "#comment"
   ]
  },
  {
   "cell_type": "code",
   "execution_count": null,
   "metadata": {},
   "outputs": [],
   "source": [
    "# TODO: run the cell above this one.\n",
    "\n",
    "# TODO: add a comment to the cell above this one along with the whos command. What error do you get?\n",
    "# Answer:"
   ]
  },
  {
   "cell_type": "code",
   "execution_count": null,
   "metadata": {},
   "outputs": [],
   "source": [
    "# TODO: change the value of the variable my_var, then run the whos command again in the cell below this one.\n",
    "my_var = 1231"
   ]
  },
  {
   "cell_type": "code",
   "execution_count": null,
   "metadata": {},
   "outputs": [],
   "source": [
    "whos"
   ]
  },
  {
   "cell_type": "code",
   "execution_count": null,
   "metadata": {},
   "outputs": [],
   "source": [
    "# TODO: What does this command tell us?\n",
    "# Answer:"
   ]
  },
  {
   "cell_type": "markdown",
   "metadata": {},
   "source": [
    "`whos` is a very useful tool for us to help track the state of our notebooks. Remember that you can't have any python code in the cell that you run it in! (This is because if there is python code, jupyter will think that all code in the cell is python. `whos` is not a python function, and thus you will get an error)."
   ]
  },
  {
   "cell_type": "markdown",
   "metadata": {},
   "source": [
    "Cell Ordering Errors\n",
    "==========\n",
    "\n",
    "Unfortunately, this can cause what we will refer to as cell ordering errors. This happens when you run cells in an unintended order, producing results that you didn't expect.\n",
    "\n",
    "These are important errors to watch out for because they can both cause you to believe that your solution is wrong when it isn't or that your solution is right when it isn't!\n",
    "\n",
    "Luckily for us, jupyter provides some feedback and options to help us avoid these errors. The first tool is the `In [  ]:` indication to the left of our code cells. This indication tells us the _order in which we have run our cells_.\n",
    "\n",
    "The second tool is the menu options in the \"Cell\" and \"Kernel\" menus.\n",
    "\n",
    "Example #1: Forgetting to run a cell\n",
    "------"
   ]
  },
  {
   "cell_type": "code",
   "execution_count": null,
   "metadata": {},
   "outputs": [],
   "source": [
    "# Don't run this cell!\n",
    "a = 9"
   ]
  },
  {
   "cell_type": "code",
   "execution_count": null,
   "metadata": {},
   "outputs": [],
   "source": [
    "# TODO: run this cell without running the one above. What is the output?\n",
    "# Answer: \n",
    "\n",
    "print(a)"
   ]
  },
  {
   "cell_type": "markdown",
   "metadata": {},
   "source": [
    "When this error occurs, notice that the `In [  ]:` indication to the left of the first cell __stays blank__ whereas the `In [  ]:` indication to the left of the second cell does not. Note the number inbetween the brackets.\n",
    "\n",
    "\n",
    "__Fixing this error (option 1)__:\n",
    "The easiest way to fix this error is to run the first cell (the forgotten one), then to re-run the second cell. Notice how the numbers in the `In [  ]:` indications change.\n",
    "\n",
    "For example, if the second cell had originally read `In [4]:`, when I run the first cell, it will then read `In [5]:`, and when I re-run the second cell it will read `In [6]:`.\n",
    "\n",
    "__Fixing this error (option 2)__:\n",
    "Another way to fix this error is to use the \"Cell\" menu. Click on the cell that is the last one that you want to run and then choose the option \"Run all above\". \n",
    "\n",
    "You can also select \"Run all\" to simply run all of the cells in the notebook from top to bottom. \n",
    "\n",
    "If we want to double check that one cell was run before another, we need to make sure that the numbers line up correctly!"
   ]
  },
  {
   "cell_type": "markdown",
   "metadata": {},
   "source": [
    "Example #2: Accidentally running cells in reverse order\n",
    "------------------"
   ]
  },
  {
   "cell_type": "code",
   "execution_count": null,
   "metadata": {},
   "outputs": [],
   "source": [
    "# TODO: don't run this cell yet! Run the cell below first. Once you've done that, what is the output of this cell?\n",
    "# Answer: \n",
    "print(b)"
   ]
  },
  {
   "cell_type": "code",
   "execution_count": null,
   "metadata": {},
   "outputs": [],
   "source": [
    "# TODO: Run this cell first, then run the one above with the print statement. \n",
    "b = 133"
   ]
  },
  {
   "cell_type": "markdown",
   "metadata": {},
   "source": [
    "In this example, the first cell __doesn't cause an error when it should__. The fixes for this error are (luckily for us) exactly the same as the fixes for the first error.\n",
    "\n",
    "Moral of the Story\n",
    "===========\n",
    "\n",
    "Whenever you are getting ready to turn in work that you've done in a jupyter notebook, you should *__always__* do two things before you turn it in: \n",
    "\n",
    "1. From the \"Kernel\" menu select \"Restart & Run All\". This will remove all variables that you have defined from the memory of jupyter notebooks and re-run all cells in top-to-bottom ordering.\n",
    "\n",
    "2. Double check that your output is what you think it should be and that no errors occurred."
   ]
  }
 ],
 "metadata": {
  "kernelspec": {
   "display_name": "Python 3",
   "language": "python",
   "name": "python3"
  },
  "language_info": {
   "codemirror_mode": {
    "name": "ipython",
    "version": 3
   },
   "file_extension": ".py",
   "mimetype": "text/x-python",
   "name": "python",
   "nbconvert_exporter": "python",
   "pygments_lexer": "ipython3",
   "version": "3.6.1"
  }
 },
 "nbformat": 4,
 "nbformat_minor": 2
}

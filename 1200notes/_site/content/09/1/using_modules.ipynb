{
 "cells": [
  {
   "cell_type": "markdown",
   "metadata": {},
   "source": [
    "Using Modules\n",
    "=============\n",
    "\n",
    "In python code, we may want to access functions that are not automatically included (unlike the built-in functions). There are a number of collections of functions that we can use by \"importing their modules\". A module for us is a collection of python functions.\n",
    "\n",
    "There many, many python modules but there are only two modules that we will focus on for the time being: `random` and `time`.\n",
    "\n",
    "`random` will let us generate (pseudo) random numbers. (Generating a truly random number is *__extremely__* hard; most programming languages have default modules that generate *seemingly* random numbers.)\n",
    "\n",
    "`time` will let us conduct experiments about how long it takes for different pieces of code to run.\n",
    "\n",
    "\n",
    "There are a number of ways to import modules. We will use the \"most basic\":\n",
    "\n",
    "```python\n",
    "import module   # goes at the top of your program\n",
    "\n",
    "\n",
    "module.function()  # you can access functions from the module later like this\n",
    "```\n",
    "\n",
    "Let's take a look at a live example with [the random module](https://docs.python.org/3/library/random.html), using [the functions that it provides for integers](https://docs.python.org/3/library/random.html#functions-for-integers)."
   ]
  },
  {
   "cell_type": "code",
   "execution_count": null,
   "metadata": {},
   "outputs": [],
   "source": [
    "import random\n",
    "\n",
    "\n",
    "# we'll generate 10 random numbers\n",
    "for i in range(10):\n",
    "    num = random.randrange(0, 5)  # generate a random number between 0 (inclusive) and 5 (exclusive)\n",
    "    print(num)"
   ]
  },
  {
   "cell_type": "markdown",
   "metadata": {},
   "source": [
    "There are three other ways of importing modules that you may see:\n",
    "\n",
    "`import module as name`: same as `import module`, but gives a \"nickname\" to the module so its functions would be accessed via `name.function()` rather than `module.function()`. It's fine with us if you use this strategy __so long as your name for the module is sensible__.\n",
    "\n",
    "`from module import *`: imports all functions from a module directly so you just use `function()` to call the functions rather than `module.function()`. __We prefer `import module` because it makes it clearer where our different functions are coming from__.\n",
    "\n",
    "`from module import specific_piece`: imports only the specified functions/objects from a module directly so you just use `function()` to call the functions rather than `module.function()`. __We prefer `import module` because it makes it clearer where our different functions are coming from__."
   ]
  },
  {
   "cell_type": "markdown",
   "metadata": {},
   "source": [
    "Writing our own modules\n",
    "------------------\n",
    "\n",
    "We'll talk about writing our own modules in the future! This is one of the reasons that we care so much about you using the `if __name__ == \"__main__\":` clause in your code!"
   ]
  },
  {
   "cell_type": "code",
   "execution_count": null,
   "metadata": {},
   "outputs": [],
   "source": []
  }
 ],
 "metadata": {
  "kernelspec": {
   "display_name": "Python 3",
   "language": "python",
   "name": "python3"
  },
  "language_info": {
   "codemirror_mode": {
    "name": "ipython",
    "version": 3
   },
   "file_extension": ".py",
   "mimetype": "text/x-python",
   "name": "python",
   "nbconvert_exporter": "python",
   "pygments_lexer": "ipython3",
   "version": "3.6.1"
  }
 },
 "nbformat": 4,
 "nbformat_minor": 2
}

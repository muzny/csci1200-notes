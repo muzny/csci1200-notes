{
 "cells": [
  {
   "cell_type": "markdown",
   "metadata": {},
   "source": [
    "Runtime\n",
    "========\n",
    "\n",
    "Runtime is the amount of time that it take for a program or piece of code to run. It can either be measured in real time (minutes, seconds, milliseconds, etc) or in *number of operations*. Computer scientists study runtime most often in terms of number of operations, but it is much easier for us to see the effects of different runtimes directly if we measure using real time.\n",
    "\n",
    "To do our measurements we will use the `time` module (see [section 9.1](01_using_modules.ipynb) for instructions on how to import modules).\n",
    "\n",
    "\n",
    "There are four important pieces to using the `time` module to measure how long code takes to run:\n",
    "\n",
    "```python\n",
    "import time  # 1) import the module\n",
    "\n",
    "\n",
    "# 2) get the initial time\n",
    "start = time.time()\n",
    "# code that you want to time goes here\n",
    "super_complex_math = 1 + 3\n",
    "\n",
    "# 3) get the ending time\n",
    "end = time.time()\n",
    "\n",
    "# 4) calculate the elapsed time\n",
    "elapsed = end - start\n",
    "```\n",
    "\n",
    "A Note on Scientific Notation\n",
    "-------------\n",
    "\n",
    "You'll notice in the example below that scientific notation is used when numbers are very very small, for example.\n",
    "\n",
    "A number that looks like `1.0e-05` is equivalent to `1.0 * (10 ** -5)` or `.00001`."
   ]
  },
  {
   "cell_type": "code",
   "execution_count": null,
   "metadata": {},
   "outputs": [],
   "source": [
    "# TODO: Run me! How long does this code take to run? Does it always take the same amount of time?\n",
    "# Answer:\n",
    "# Challenge! Change the code that is being timed—can you make it so that it takes 1 full second to run?\n",
    "\n",
    "\n",
    "import time  # 1) import the module\n",
    "\n",
    "\n",
    "# 2) get the initial time\n",
    "start = time.time()\n",
    "# code that you want to time goes here\n",
    "super_complex_math = 1 + 3\n",
    "\n",
    "# 3) get the ending time\n",
    "end = time.time()\n",
    "\n",
    "# 4) calculate the elapsed time\n",
    "elapsed = end - start\n",
    "print(\"That took: \" + str(elapsed) + \" seconds\")"
   ]
  }
 ],
 "metadata": {
  "kernelspec": {
   "display_name": "Python 3",
   "language": "python",
   "name": "python3"
  },
  "language_info": {
   "codemirror_mode": {
    "name": "ipython",
    "version": 3
   },
   "file_extension": ".py",
   "mimetype": "text/x-python",
   "name": "python",
   "nbconvert_exporter": "python",
   "pygments_lexer": "ipython3",
   "version": "3.6.1"
  }
 },
 "nbformat": 4,
 "nbformat_minor": 2
}

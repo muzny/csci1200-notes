{
 "cells": [
  {
   "cell_type": "markdown",
   "metadata": {},
   "source": [
    "`main` and `if __name__ == \"__main__\"`:\n",
    "------------------\n",
    "\n",
    "Another common programming pattern that you will likely encounter in python is when we hide the call to `main` in a guard that prevents the  main function from running if this code was imported as a module.\n",
    "\n",
    "\n",
    "```python\n",
    "def main():\n",
    "    # code to run our program goes here\n",
    "    \n",
    "# two underscores precede and succeed \"name\" and \"main\" this is\n",
    "# important that you type exactly like this\n",
    "if __name__ == \"__main__\":\n",
    "    main()\n",
    "```\n",
    "\n",
    "We'll talk more about the more techincal reasons that we do this when we talk about modules."
   ]
  },
  {
   "cell_type": "code",
   "execution_count": null,
   "metadata": {},
   "outputs": [],
   "source": []
  }
 ],
 "metadata": {
  "kernelspec": {
   "display_name": "Python 3",
   "language": "python",
   "name": "python3"
  },
  "language_info": {
   "codemirror_mode": {
    "name": "ipython",
    "version": 3
   },
   "file_extension": ".py",
   "mimetype": "text/x-python",
   "name": "python",
   "nbconvert_exporter": "python",
   "pygments_lexer": "ipython3",
   "version": "3.6.1"
  }
 },
 "nbformat": 4,
 "nbformat_minor": 2
}

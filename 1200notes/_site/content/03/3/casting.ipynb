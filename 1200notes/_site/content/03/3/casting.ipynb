{
 "cells": [
  {
   "cell_type": "markdown",
   "metadata": {},
   "source": [
    "Type Conversions (Casting)\n",
    "================"
   ]
  },
  {
   "cell_type": "markdown",
   "metadata": {},
   "source": [
    "Earlier in this chapter of the notes, we learned about different types and doing operations on them, such as adding `int`s together (`17 + 32`).\n",
    "\n",
    "Some of these operations result in a value of the same type (`17 + 32` is `49`, which is also an `int`), while some operations change the type. For instance, `17 + 32.0` changes the result into `49.0`, which is a `float`.\n",
    "\n",
    "There are two general ways to convert values from one type to another:\n",
    "1. With math.\n",
    "2. With _casting_ functions.\n",
    "\n",
    "Before we get into the details of these, let's take a look at the `type()` function. This is a function like the `print()` function. It takes one argument of any value and tells you what type that value is:"
   ]
  },
  {
   "cell_type": "code",
   "execution_count": null,
   "metadata": {},
   "outputs": [],
   "source": [
    "# TODO: run this code\n",
    "type(7)  # the output should be \"int\""
   ]
  },
  {
   "cell_type": "code",
   "execution_count": null,
   "metadata": {},
   "outputs": [],
   "source": [
    "# TODO: try out the type function on some different values\n",
    "type(\"hi\")"
   ]
  },
  {
   "cell_type": "markdown",
   "metadata": {},
   "source": [
    "We can also pass a variable to the `type()` function. When we pass a variable to the `type()` function, we are asking \"what is the type of the value stored in this variable?\"."
   ]
  },
  {
   "cell_type": "code",
   "execution_count": null,
   "metadata": {},
   "outputs": [],
   "source": [
    "# TODO: run this code, then play around with it more.\n",
    "# we can also pass variables to the type \n",
    "# function as its argument\n",
    "x = 12.4\n",
    "type(x)"
   ]
  },
  {
   "cell_type": "markdown",
   "metadata": {},
   "source": [
    "Now that we know another way (with jupyter notebooks we have the `whos` notebook tool) to find the type of variables, let's learn about actually changing data types.\n",
    "\n",
    "The Math Way\n",
    "-------------\n",
    "\n",
    "When we are talking about numbers, we can convert from `int` to `float` just by doing math.\n",
    "\n",
    "Whenever we multiply, divide, add, or subtract a `float` with an `int`, the result will always be a `float`.\n",
    "\n",
    "For example:\n",
    "```python\n",
    "x = 3 + 4 \n",
    "print(type(x))  # int\n",
    "y = 3.0 + 4\n",
    "print(type(y))  # float\n",
    "```\n",
    "\n",
    "This means that if you have an `int` but you want the same number as a float, if you multiply it by `1.0`, you will have your desired result.\n"
   ]
  },
  {
   "cell_type": "code",
   "execution_count": null,
   "metadata": {},
   "outputs": [],
   "source": [
    "# TODO: convert the variable z to a float using math.\n",
    "z = 12"
   ]
  },
  {
   "cell_type": "markdown",
   "metadata": {},
   "source": [
    "When we use math to convert types in python, we can change from `int` to `float` but we can't do the reverse! Even if we use integer divide `//`, this won't give us an `int` if __any__ of the numbers started as `float`s!"
   ]
  },
  {
   "cell_type": "markdown",
   "metadata": {},
   "source": [
    "The Casting Way\n",
    "=========\n",
    "\n",
    "The most general way to convert values to a different type is by using _casting functions_. These are functions that take one value and give you back that same value, but as a different type. There are 4 basic casting functions that match our 4 basic types: `int(), float(), str(), bool()`.\n",
    "\n",
    "The `int()` function takes any value and returns it as an `int`. For example, `int(7.0)` gives you the value `7`.\n",
    "\n",
    "What do you think happens if you do `int(7.2)`? What about `int(7.9)`?"
   ]
  },
  {
   "cell_type": "code",
   "execution_count": null,
   "metadata": {},
   "outputs": [],
   "source": [
    "# TODO: run this code. play with the int() function\n",
    "\n",
    "print(int(7.2))\n",
    "print(int(7.9))"
   ]
  },
  {
   "cell_type": "markdown",
   "metadata": {},
   "source": [
    "Notice that we put the `int(7.2)` function inside a `print()` function. This is so that we can print out the results and can see them.\n",
    "\n",
    "With casting functions, if you want to be able to use the results, you *__must always save them in a variable__*.\n",
    "\n",
    "```python\n",
    "x = 7.9\n",
    "x = int(x) # now I can access the results!\n",
    "print(x)\n",
    "```\n",
    "\n",
    "People frequently make the mistake of forgetting to save their results:\n",
    "\n",
    "```python\n",
    "x = 7.9\n",
    "int(x) # DANGER!!!! Not saved!\n",
    "print(x)\n",
    "```"
   ]
  },
  {
   "cell_type": "markdown",
   "metadata": {},
   "source": [
    "The other three casting functions work the same as the `int()` function."
   ]
  },
  {
   "cell_type": "code",
   "execution_count": null,
   "metadata": {},
   "outputs": [],
   "source": [
    "# TODO: play with float()\n",
    "val = 8\n",
    "val = float(val)"
   ]
  },
  {
   "cell_type": "code",
   "execution_count": null,
   "metadata": {},
   "outputs": [],
   "source": [
    "# TODO: play with str()\n",
    "val = 8\n",
    "val = str(val)"
   ]
  },
  {
   "cell_type": "code",
   "execution_count": null,
   "metadata": {},
   "outputs": [],
   "source": [
    "# TODO: play with bool()\n",
    "# We'll talk more about booleans later but they have behavior that you\n",
    "# might not expect when casting, so they are fun to play with\n",
    "val = 8\n",
    "val = bool(val)\n",
    "\n",
    "val2 = 0\n",
    "val2 = bool(val)"
   ]
  },
  {
   "cell_type": "markdown",
   "metadata": {},
   "source": [
    "Lastly, it's important to note that these casting functions _don't always work_! Sometimes, they can cause errors."
   ]
  },
  {
   "cell_type": "code",
   "execution_count": null,
   "metadata": {},
   "outputs": [],
   "source": [
    "# TODO: run this code\n",
    "int(\"hello\")  # What does this even mean anyways?"
   ]
  }
 ],
 "metadata": {
  "kernelspec": {
   "display_name": "Python 3",
   "language": "python",
   "name": "python3"
  },
  "language_info": {
   "codemirror_mode": {
    "name": "ipython",
    "version": 3
   },
   "file_extension": ".py",
   "mimetype": "text/x-python",
   "name": "python",
   "nbconvert_exporter": "python",
   "pygments_lexer": "ipython3",
   "version": "3.6.1"
  }
 },
 "nbformat": 4,
 "nbformat_minor": 2
}

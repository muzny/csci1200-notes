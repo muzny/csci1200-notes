{
 "cells": [
  {
   "cell_type": "markdown",
   "metadata": {},
   "source": [
    "Debugging our code: reading error messages\n",
    "======================\n",
    "\n",
    "\n",
    "\n"
   ]
  },
  {
   "cell_type": "code",
   "execution_count": null,
   "metadata": {},
   "outputs": [],
   "source": [
    "# TODO: run this cell!\n",
    "print(y)"
   ]
  },
  {
   "cell_type": "markdown",
   "metadata": {},
   "source": [
    "When you get an error message, you'll see something similar to what is below:\n",
    "\n",
    "```python\n",
    "---------------------------------------------------------------------------\n",
    "NameError                                 Traceback (most recent call last)\n",
    "<ipython-input-1-d9183e048de3> in <module>()\n",
    "----> 1 print(y)\n",
    "\n",
    "NameError: name 'y' is not defined\n",
    "\n",
    "```\n",
    "\n",
    "There are a couple important parts of this error message that help tell you what caused your code to crash.\n",
    "\n",
    "1. The type of error. In this case, a `NameError` has occurred. This appears at the top and bottom of this message. (`NameError: name 'y' is not defined`)\n",
    "2. Extra information. Look at `NameError: name 'y' is not defined`. The setence after `NameError` tells us the problem--there is a variable `y` that is not defined.\n",
    "3. Where it occurred. `----> 2 print(y)` tells us the line that the error occurred on. It has both the line number (`2`) and the actual code on that line (`print(y)`).\n",
    "\n",
    "Whenever you have an error, you should look at these 3 things. In this case, the error helps tell us that on line 2, we are attempting to use a variable, `y` that is not defined (we forgot to set `y = value` beforehand!)."
   ]
  },
  {
   "cell_type": "markdown",
   "metadata": {},
   "source": [
    "(Some) Types of Errors\n",
    "--------------\n",
    "(general) descriptions of errors that you may encounter and what (normally) causes them.\n",
    "\n",
    "`SyntaxError`: this is caused by typing \"illegal code\"; something that you may think is python but isn't quite. Can also be casue by typos in keywords.\n",
    "\n",
    "`NameError`: caused by either referencing a variable or a function that doesn't exist where you are trying to use it. Misspelling variable names and function names also causes this error.\n",
    "\n",
    "`IndentationError`: caused by either not indenting where you need to or indenting where you shouldn't. Can also be cause if you mix tabs and spaces together! If you think that your indentation is correct, we recommend re-doing it (deleting the spacing that you have and re-indenting).\n",
    "\n",
    "`TypeError`: caused by attempting to use a value of a certain type in an illegal way. This is the error that you get if you, for instance, try to do `8 + \"cats\"`.\n",
    "\n",
    "`ValueError`: caused by trying to do an illegal cast (`int(\"cats\")`)."
   ]
  },
  {
   "cell_type": "markdown",
   "metadata": {},
   "source": [
    "Debugging our code: using comments\n",
    "==================\n",
    "\n",
    "Comments can be extremely useful to help us find problems in our programs or to tweak our solutions. We can do this by \"commenting out\" code.\n",
    "\n",
    "For example, if you have a program that is giving you an error as in the cell below:"
   ]
  },
  {
   "cell_type": "code",
   "execution_count": null,
   "metadata": {},
   "outputs": [],
   "source": [
    "# TODO: run this cell.\n",
    "# look at the error message and commment out the offending line. \n",
    "# Re-run the cell. Repeat this process until there are no errors.\n",
    "\n",
    "# Finally, edit your commented out lines and un-comment them to fix the errors.\n",
    "# This allows us to see what other code might be causing errors.\n",
    "x = 12\n",
    "y = z + x\n",
    "print(x)\n",
    "print(y)"
   ]
  },
  {
   "cell_type": "markdown",
   "metadata": {},
   "source": [
    "Debugging our code: using `print`s\n",
    "==================\n",
    "\n",
    "The `print` function can be very helpful for debugging, especially when our code is running but we aren't getting the answer that we expect."
   ]
  },
  {
   "cell_type": "code",
   "execution_count": null,
   "metadata": {},
   "outputs": [],
   "source": [
    "# TODO: run this cell. Is the answer the one expected?\n",
    "# Use print commands to see at what point the value of a is different\n",
    "# than we expect. (Expected values shown in comments)\n",
    "\n",
    "a = 10\n",
    "a = a * 45  # 450\n",
    "a = a // 8  # 56.5\n",
    "a = a + 5 * 3  # 184.5\n",
    "print(a) # 184.5"
   ]
  }
 ],
 "metadata": {
  "kernelspec": {
   "display_name": "Python 3",
   "language": "python",
   "name": "python3"
  },
  "language_info": {
   "codemirror_mode": {
    "name": "ipython",
    "version": 3
   },
   "file_extension": ".py",
   "mimetype": "text/x-python",
   "name": "python",
   "nbconvert_exporter": "python",
   "pygments_lexer": "ipython3",
   "version": "3.6.1"
  }
 },
 "nbformat": 4,
 "nbformat_minor": 2
}

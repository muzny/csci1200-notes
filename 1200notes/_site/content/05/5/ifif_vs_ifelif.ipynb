{
 "cells": [
  {
   "cell_type": "markdown",
   "metadata": {},
   "source": [
    "`if` then `if` vs. `if/elif` statements\n",
    "==============\n",
    "\n",
    "As we learned in the previous section, an `if` statement followed by an `elif` are parts of __the same control structure__.\n",
    "\n",
    "```python\n",
    "if logical_expression:\n",
    "    # do something if logical_expression is True\n",
    "elif logical_expression2:\n",
    "    # do something if logical_expression is False\n",
    "    # and also logical_expression2 is True\n",
    "```\n",
    "\n",
    "This might lead us to ask--what is the difference between an `if/elif` statement versus having two `if` statements in a row?\n",
    "\n",
    "Let's take a look at some examples."
   ]
  },
  {
   "cell_type": "code",
   "execution_count": null,
   "metadata": {},
   "outputs": [],
   "source": [
    "# TODO: run this code!\n",
    "# What is the output?\n",
    "\n",
    "x = 100\n",
    "y = 50\n",
    "\n",
    "# ONE control statement\n",
    "if x > 7:\n",
    "    print(\"x greater than y\")\n",
    "elif x % y == 0:\n",
    "    print(\"x is divisible by y\")"
   ]
  },
  {
   "cell_type": "code",
   "execution_count": null,
   "metadata": {},
   "outputs": [],
   "source": [
    "# TODO: run this code!\n",
    "# What is the output?\n",
    "\n",
    "x = 100\n",
    "y = 50\n",
    "\n",
    "# TWO control statements\n",
    "if x > 7:\n",
    "    print(\"x greater than y\")\n",
    "if x % y == 0:\n",
    "    print(\"x is divisible by y\")"
   ]
  },
  {
   "cell_type": "code",
   "execution_count": null,
   "metadata": {},
   "outputs": [],
   "source": [
    "# TODO: write your own experiments to compare the output of \n",
    "# multiple if statements versus an if/else statement"
   ]
  },
  {
   "cell_type": "markdown",
   "metadata": {},
   "source": [
    "We can compare the two by denoting them as follows:\n",
    "\n",
    "`if/elif`\n",
    "-------\n",
    "\n",
    "```python\n",
    "# ONE control statement\n",
    "if logical_expression:\n",
    "    # do something if logical_expression is True\n",
    "elif logical_expression2:\n",
    "    # do something if logical_expression is False\n",
    "    # and also logical_expression2 is True\n",
    "```\n",
    "\n",
    "`if` then `if`\n",
    "-------\n",
    "\n",
    "```python\n",
    "# First control statement\n",
    "if logical_expression:\n",
    "    # do something if logical_expression is True\n",
    "# SECOND control statment\n",
    "if logical_expression2:\n",
    "    # do something if logical_expression2 is True\n",
    "```\n",
    "\n",
    "This is a common source of bugs in the programs we write that use conditionals!\n",
    "\n",
    "__Rule of thumb__: If you only want **one** of a set of outcomes, use **one** `if/elif/else` control structure. If you want __0 or more__ of a set of outcomes, use __multiple__ `if/elif/else` control structures."
   ]
  },
  {
   "cell_type": "code",
   "execution_count": null,
   "metadata": {},
   "outputs": [],
   "source": []
  }
 ],
 "metadata": {
  "kernelspec": {
   "display_name": "Python 3",
   "language": "python",
   "name": "python3"
  },
  "language_info": {
   "codemirror_mode": {
    "name": "ipython",
    "version": 3
   },
   "file_extension": ".py",
   "mimetype": "text/x-python",
   "name": "python",
   "nbconvert_exporter": "python",
   "pygments_lexer": "ipython3",
   "version": "3.6.1"
  }
 },
 "nbformat": 4,
 "nbformat_minor": 2
}

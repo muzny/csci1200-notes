{
 "cells": [
  {
   "cell_type": "markdown",
   "metadata": {},
   "source": [
    "Writing Functions with Parameters\n",
    "==========\n",
    "\n",
    "Let's write and call our own functions *__now, with parameters!__* \n",
    "\n",
    "The basic format is:\n",
    "```python\n",
    "def function_name(parameters):\n",
    "    # code here\n",
    "    # notice that it is indented\n",
    "    # everything indented here is inside this function\n",
    "```\n",
    "\n",
    "We can give the function as many parameters as we want to in a comma separated list.\n",
    "\n",
    "Before we go on, let's refine \"parameter\" a little more. (Adding to our definition from [the previous section on using functions](../2/using_functions.html#parametersarguments).)\n",
    "\n",
    "__parameter__: information passed to the function when it is called. All parameters are given a name in the function definition. The name is how we will refer to the value that was passed to the function when it was called.\n",
    "\n",
    "Notice that parameters are similar to, but not the same as, variables."
   ]
  },
  {
   "cell_type": "code",
   "execution_count": null,
   "metadata": {},
   "outputs": [],
   "source": [
    "# TODO: run this code\n",
    "\n",
    "# this is a function definition that takes one parameter\n",
    "# when the function is called, the parameter x takes the \n",
    "# value given to the function\n",
    "def times_two(x):\n",
    "    ans = 2 * x\n",
    "    print(ans)"
   ]
  },
  {
   "cell_type": "code",
   "execution_count": null,
   "metadata": {},
   "outputs": [],
   "source": [
    "# Parameters let our functions perform the same operations, \n",
    "# but on different values (making them more flexible!)\n",
    "# TODO: run this code, add more examples of your own.\n",
    "\n",
    "times_two(7)\n",
    "times_two(100)\n",
    "times_two(-1.2)\n",
    "print()\n",
    "\n",
    "# we can use variables as parameters when we are calling a function\n",
    "a = 13\n",
    "# this calls the function times_two, passing in the value of a (13)\n",
    "times_two(a)\n",
    "# this calls the function times_two, \n",
    "# passing in the value of a + 5.4 (18.4)\n",
    "# Notice that if we have a mathematical expression,\n",
    "# this math will be resolved (evaluated) before the\n",
    "# value is given to the function\n",
    "times_two(a + 5.4)"
   ]
  },
  {
   "cell_type": "markdown",
   "metadata": {},
   "source": [
    "Parameters and Ordering\n",
    "------------\n",
    "\n",
    "Let's look at an example of a function that takes two parameters so that we can talk about how ordering affects parameters.\n",
    "\n",
    "```python\n",
    "def subtract(x, y):\n",
    "    s = x - y # notice that we subtract y from x and never x from y\n",
    "    print(str(x) + \" - \" + str(y) + \" = \" + str(s))\n",
    "```\n",
    "    \n",
    "When we call this function, the first value that we pass to it will be given to the parameter `x` and the second value that we pass to it will be given to the parameter `y`.\n",
    "\n",
    "Let's play around with some examples."
   ]
  },
  {
   "cell_type": "code",
   "execution_count": null,
   "metadata": {},
   "outputs": [],
   "source": [
    "# TODO: run me to get the definition of subtract read \n",
    "# into your python kernel\n",
    "def subtract(x, y):\n",
    "    s = x - y # notice that we subtract y from x and never x from y\n",
    "    print(str(x) + \" - \" + str(y) + \" = \" + str(s))"
   ]
  },
  {
   "cell_type": "code",
   "execution_count": null,
   "metadata": {},
   "outputs": [],
   "source": [
    "# TODO: run this code.\n",
    "# Are the results of these two function calls the same?\n",
    "# Answer:\n",
    "\n",
    "subtract(10, 7)\n",
    "subtract(7, 10)\n",
    "print()\n",
    "\n",
    "# What about if we pass in values via variables instead of directly?\n",
    "a = 4\n",
    "b = 99\n",
    "subtract(a, b)\n",
    "subtract(b, a)"
   ]
  },
  {
   "cell_type": "markdown",
   "metadata": {},
   "source": [
    "To reiterate: __no matter what, the value that you pass in first will be assigned to the first parameter, second to the second parameter, and so on and so forth__."
   ]
  },
  {
   "cell_type": "markdown",
   "metadata": {},
   "source": [
    "Scope\n",
    "----------\n",
    "\n",
    "Let's talk about scope, but first, an informal definition:\n",
    "\n",
    "__scope__: where you have access to which variables and parameters. This also refers to where you can change the values of which variables and parameters.\n",
    "\n",
    "An example without functions:\n",
    "```python\n",
    "x = 1\n",
    "y = 2\n",
    "print(x)\n",
    "print(y)\n",
    "# print(z)  # ERROR because z doesn't exist here\n",
    "z = 3  # lines after this one are where z is in scope\n",
    "print(z)\n",
    "x = x + 1 # x is still in scope, we can still access it\n",
    "```\n",
    "\n",
    "Of course, the picture becomes more complicated when we start involving functions. Let's use our `subtract` function from above.\n",
    "\n",
    "```python\n",
    "def subtract(x, y):\n",
    "    s = x - y # notice that we subtract y from x and never x from y\n",
    "    print(str(x) + \" - \" + str(y) + \" = \" + str(s))\n",
    "    \n",
    "a = 10\n",
    "b = 7\n",
    "subtract(a, b)\n",
    "```\n",
    "\n",
    "What would happen if we tried to access the variables `x` and `y` outside of `subtract`?"
   ]
  },
  {
   "cell_type": "code",
   "execution_count": null,
   "metadata": {},
   "outputs": [],
   "source": [
    "# TODO: Run this code. What happens?\n",
    "# Answer:\n",
    "def subtract(x, y):\n",
    "    s = x - y\n",
    "    print(str(x) + \" - \" + str(y) + \" = \" + str(s))\n",
    "    \n",
    "a = 10\n",
    "b = 7\n",
    "subtract(a, b)\n",
    "print(x) # notice that we added these lines!\n",
    "print(y)"
   ]
  },
  {
   "cell_type": "markdown",
   "metadata": {},
   "source": [
    "This causes an error because `x` and `y` are __only__ in scope inside of the `subtract` function. \n",
    "\n",
    "__In general, inside functions, you should only be accessing parameters or variables that you defined inside the function.__\n",
    "\n",
    "Now let's take a look at what happens if you *also* have variables named `x` and `y` outside of the subtract function."
   ]
  },
  {
   "cell_type": "code",
   "execution_count": null,
   "metadata": {},
   "outputs": [],
   "source": [
    "# TODO: run this code. \n",
    "# What happens when you pass the variable x in as the \n",
    "# second parameter rather than the first?\n",
    "# Answer:\n",
    "def subtract(x, y):\n",
    "    s = x - y\n",
    "    print(str(x) + \" - \" + str(y) + \" = \" + str(s))\n",
    "    \n",
    "x = 10\n",
    "y = 7\n",
    "subtract(x, y)\n",
    "subtract(y, x)  # What happens here?"
   ]
  },
  {
   "cell_type": "code",
   "execution_count": null,
   "metadata": {},
   "outputs": [],
   "source": [
    "# TODO: try some other combinations out\n",
    "subtract(x, x) # for example"
   ]
  },
  {
   "cell_type": "markdown",
   "metadata": {},
   "source": [
    "What's happening here is that rather than passing in the variable `x`, we are passing the *value* of the variable `x`. The same thing goes for `y`."
   ]
  },
  {
   "cell_type": "code",
   "execution_count": null,
   "metadata": {},
   "outputs": [],
   "source": []
  }
 ],
 "metadata": {
  "kernelspec": {
   "display_name": "Python 3",
   "language": "python",
   "name": "python3"
  },
  "language_info": {
   "codemirror_mode": {
    "name": "ipython",
    "version": 3
   },
   "file_extension": ".py",
   "mimetype": "text/x-python",
   "name": "python",
   "nbconvert_exporter": "python",
   "pygments_lexer": "ipython3",
   "version": "3.6.1"
  }
 },
 "nbformat": 4,
 "nbformat_minor": 2
}

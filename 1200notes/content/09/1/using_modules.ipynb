{
 "cells": [
  {
   "cell_type": "markdown",
   "metadata": {},
   "source": [
    "Using Modules\n",
    "=============\n",
    "\n",
    "In python code, we may want to access functions that are not automatically included (unlike the built-in functions). There are a number of collections of functions that we can use by \"importing their modules\". A module is a collection of python functions.\n",
    "\n",
    "A module might be provided by default with your installed of the python programming language, you might download a module that someone else has written, or you might even write your own module.\n",
    "\n",
    "No matter which of these kinds of modules you are working with, how you use them will be almost exactly the same."
   ]
  },
  {
   "cell_type": "markdown",
   "metadata": {},
   "source": [
    "Taking a closer look: `random` and `time`\n",
    "----------------\n",
    "There many, many python modules but we will focus on two of them for the time being: `random` and `time`.\n",
    "\n",
    "`random` will let us generate (pseudo) random numbers. (Generating a truly random number is *__extremely__* hard; most programming languages have default modules that generate *seemingly* random numbers.)\n",
    "\n",
    "`time` will let us conduct experiments about how long it takes for different pieces of code to run.\n",
    "\n",
    "When we want to access the functionality of a module, we need to __import that module__.\n",
    "\n",
    "Since these modules are provided with python by default, we don't need to install anything extra before we can access them. We do, however, need to say in our programs that we would like to access them!"
   ]
  },
  {
   "cell_type": "markdown",
   "metadata": {},
   "source": [
    "Importing Modules\n",
    "--------------\n",
    "\n",
    "There are a number of ways to import modules. Let's get started by taking a look at the \"most basic\":\n",
    "\n",
    "```python\n",
    "import modulename   # goes at the top of your program\n",
    "\n",
    "# you can access functions from the module later like this\n",
    "modulename.functionname()\n",
    "```\n",
    "\n",
    "Let's take a look at a live example with [the random module](https://docs.python.org/3/library/random.html), using [the functions that it provides for integers](https://docs.python.org/3/library/random.html#functions-for-integers)."
   ]
  },
  {
   "cell_type": "code",
   "execution_count": null,
   "metadata": {},
   "outputs": [],
   "source": [
    "import random\n",
    "\n",
    "\n",
    "# we'll generate 10 random numbers\n",
    "count = 0\n",
    "while count < 10:\n",
    "    # generate a random number between 0 (inclusive) and 5 (inclusive)\n",
    "    num = random.randint(0, 5)\n",
    "    print(num)\n",
    "    count += 1"
   ]
  },
  {
   "cell_type": "markdown",
   "metadata": {},
   "source": [
    "There are three other ways of importing modules that you may see:\n",
    "\n",
    "1. `import module as name`: same as `import module`, but gives a \"nickname\" to the module so its functions would be accessed via `name.function()` rather than `module.function()`. It's fine with us if you use this strategy __so long as your name for the module is sensible__. This strategy is very useful when you are frequently accessing the functions in a module so that you don't have to type quite as much!\n",
    "\n",
    "2. `from module import *`: imports all functions from a module directly so you just use `function()` to call the functions rather than `module.function()`. __We prefer `import module` because it makes it clearer where our different functions are coming from__.\n",
    "\n",
    "3. `from module import specific_piece`: imports only the specified functions/objects from a module directly so you just use `function()` to call the functions rather than `module.function()`. __We prefer `import module` because it makes it clearer where our different functions are coming from__."
   ]
  }
 ],
 "metadata": {
  "kernelspec": {
   "display_name": "Python 3",
   "language": "python",
   "name": "python3"
  },
  "language_info": {
   "codemirror_mode": {
    "name": "ipython",
    "version": 3
   },
   "file_extension": ".py",
   "mimetype": "text/x-python",
   "name": "python",
   "nbconvert_exporter": "python",
   "pygments_lexer": "ipython3",
   "version": "3.6.1"
  }
 },
 "nbformat": 4,
 "nbformat_minor": 2
}
